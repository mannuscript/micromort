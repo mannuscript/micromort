{
 "cells": [
  {
   "cell_type": "code",
   "execution_count": 2,
   "metadata": {},
   "outputs": [],
   "source": [
    "import carmen"
   ]
  },
  {
   "cell_type": "code",
   "execution_count": 4,
   "metadata": {},
   "outputs": [
    {
     "name": "stderr",
     "output_type": "stream",
     "text": [
      "/usr/local/lib/python3.7/site-packages/carmen/resolvers/profile.py:42: UserWarning: Duplicate location name \"amman  jordan\"\n",
      "  warnings.warn('Duplicate location name \"%s\"' % alias)\n",
      "/usr/local/lib/python3.7/site-packages/carmen/resolvers/profile.py:42: UserWarning: Duplicate location name \"amman jordan\"\n",
      "  warnings.warn('Duplicate location name \"%s\"' % alias)\n",
      "/usr/local/lib/python3.7/site-packages/carmen/resolvers/profile.py:42: UserWarning: Duplicate location name \"st joseph county united states\"\n",
      "  warnings.warn('Duplicate location name \"%s\"' % alias)\n",
      "/usr/local/lib/python3.7/site-packages/carmen/resolvers/profile.py:42: UserWarning: Duplicate location name \"st tammany parish united states\"\n",
      "  warnings.warn('Duplicate location name \"%s\"' % alias)\n"
     ]
    }
   ],
   "source": [
    "resolver = carmen.get_resolver()\n",
    "resolver.load_locations()"
   ]
  },
  {
   "cell_type": "code",
   "execution_count": null,
   "metadata": {},
   "outputs": [],
   "source": [
    "resolver.resolve_tweet(doc)"
   ]
  }
 ],
 "metadata": {
  "kernelspec": {
   "display_name": "Python 3",
   "language": "python",
   "name": "python3"
  },
  "language_info": {
   "codemirror_mode": {
    "name": "ipython",
    "version": 3
   },
   "file_extension": ".py",
   "mimetype": "text/x-python",
   "name": "python",
   "nbconvert_exporter": "python",
   "pygments_lexer": "ipython3",
   "version": "3.7.2"
  }
 },
 "nbformat": 4,
 "nbformat_minor": 2
}
