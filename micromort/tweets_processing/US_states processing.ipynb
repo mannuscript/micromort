{
 "cells": [
  {
   "cell_type": "code",
   "execution_count": 46,
   "metadata": {
    "collapsed": true
   },
   "outputs": [],
   "source": [
    "import pandas as pd\n",
    "from datetime import timedelta"
   ]
  },
  {
   "cell_type": "code",
   "execution_count": 6,
   "metadata": {
    "collapsed": true
   },
   "outputs": [],
   "source": [
    "df = pd.read_csv(\"../../data/all_with_dates-formatted.csv\", encoding='latin-1').drop([\"Unnamed: 0\",\"Unnamed: 0.1\"], axis=1)"
   ]
  },
  {
   "cell_type": "code",
   "execution_count": 8,
   "metadata": {
    "collapsed": false
   },
   "outputs": [
    {
     "data": {
      "text/plain": [
       "(483922, 7)"
      ]
     },
     "execution_count": 8,
     "metadata": {},
     "output_type": "execute_result"
    }
   ],
   "source": []
  },
  {
   "cell_type": "code",
   "execution_count": 12,
   "metadata": {
    "collapsed": true
   },
   "outputs": [],
   "source": [
    "states = pd.DataFrame({'counts' : df[df.country == \"United States\"].groupby( [ \"state\"] ).size()}).reset_index().state"
   ]
  },
  {
   "cell_type": "code",
   "execution_count": 60,
   "metadata": {
    "collapsed": false
   },
   "outputs": [
    {
     "name": "stdout",
     "output_type": "stream",
     "text": [
      "25\n"
     ]
    }
   ],
   "source": [
    "counts=0\n",
    "_states = []\n",
    "for state in states:\n",
    "    gp = pd.DataFrame({'counts' : df[df.state == state].groupby( [ \"just_date\"] ).size()}).reset_index().sort_values([\"counts\"])\n",
    "    if gp[gp.counts > 100].shape[0] >= 22:\n",
    "        _states.append(state)\n",
    "        counts=counts+1\n",
    "print counts"
   ]
  },
  {
   "cell_type": "code",
   "execution_count": 30,
   "metadata": {
    "collapsed": true
   },
   "outputs": [],
   "source": [
    "df[\"just_date\"] = pd.to_datetime(df['created_at']).dt.date"
   ]
  },
  {
   "cell_type": "code",
   "execution_count": 75,
   "metadata": {
    "collapsed": false
   },
   "outputs": [
    {
     "name": "stderr",
     "output_type": "stream",
     "text": [
      "/usr/local/lib/python2.7/dist-packages/ipykernel_launcher.py:6: UserWarning: Boolean Series key will be reindexed to match DataFrame index.\n",
      "  \n",
      "/usr/local/lib/python2.7/dist-packages/ipykernel_launcher.py:7: UserWarning: Boolean Series key will be reindexed to match DataFrame index.\n",
      "  import sys\n"
     ]
    },
    {
     "name": "stdout",
     "output_type": "stream",
     "text": [
      "2018-05-14 00:00:00,14.5631067961,17.4603174603,16.1270983213,19.0476190476,11.9658119658,20.2749140893,21.5240641711,14.0969162996,17.1662125341,28.0701754386,20.3488372093,13.6,11.5740740741,16.6666666667,19.696969697,15.89958159,15.3846153846,14.1732283465,16.0,19.1256830601,21.3333333333,18.8948306595,21.3740458015,19.209039548,10.4347826087,\n",
      "2018-05-15 00:00:00,31.7829457364,19.1176470588,14.849187935,18.8940092166,19.7368421053,15.2755905512,15.9537572254,9.62199312715,13.9380530973,15.4411764706,10.0961538462,17.2955974843,20.0,14.1630901288,15.6549520767,18.3449651047,20.6896551724,21.8120805369,18.5950413223,17.9906542056,15.0943396226,19.3758127438,21.2903225806,17.0731707317,16.2162162162,\n",
      "2018-05-16 00:00:00,56.0693641618,52.9262086514,51.4197742046,52.8925619835,46.7032967033,49.9420625724,55.1330798479,47.3799126638,52.4517087667,54.4973544974,56.880733945,53.1400966184,56.1445783133,51.7786561265,54.114713217,48.4912877178,54.3624161074,48.5365853659,62.7848101266,58.9310829817,55.9523809524,53.5569105691,56.3758389262,50.7788161994,55.5555555556,\n",
      "2018-05-17 00:00:00,44.2424242424,44.2307692308,43.6261843239,37.7659574468,41.935483871,39.1812865497,42.7927927928,39.8351648352,34.4671201814,45.9854014599,41.2037037037,37.7840909091,49.0322580645,31.6582914573,43.0921052632,38.2165605096,42.7966101695,44.7222222222,45.247148289,43.9688715953,44.4444444444,39.8936170213,45.3367875648,40.830449827,44.4444444444,\n",
      "2018-05-18 00:00:00,49.4791666667,19.2170818505,26.0869565217,21.198156682,40.7407407407,26.8729641694,24.0038872692,22.4358974359,25.1908396947,25.78125,24.0458015267,27.2151898734,26.5917602996,19.5744680851,28.164556962,24.0089335567,21.8009478673,25.9818731118,24.1877256318,25.2302025783,23.595505618,19.0529875986,23.3236151603,25.5474452555,28.5714285714,\n",
      "2018-05-19 00:00:00,23.9795918367,9.42184154176,10.0597296448,12.6213592233,15.4929577465,7.79944289694,9.06976744186,10.5381165919,8.28488372093,5.69948186528,8.95953757225,9.75143403442,6.95652173913,5.99369085174,10.0446428571,8.07730426165,5.91715976331,8.13308687616,6.88073394495,14.5945945946,9.38628158845,6.99417152373,8.0223880597,6.83371298405,5.97014925373,\n",
      "2018-05-20 00:00:00,44.2708333333,35.4166666667,38.9486260454,40.6542056075,31.797235023,41.0981697171,38.8172858226,39.3700787402,37.5221238938,35.1063829787,28.5714285714,40.6315789474,34.5498783455,30.3418803419,41.3157894737,39.7671568627,39.0572390572,40.7158836689,38.9189189189,38.5401459854,33.9622641509,30.8704453441,43.4272300469,38.3647798742,30.7262569832,\n",
      "2018-05-21 00:00:00,53.9877300613,54.5454545455,51.5114873035,51.376146789,55.614973262,55.2341597796,56.5573770492,53.4818941504,54.9393414211,50.3225806452,45.3125,51.3715710723,57.0024570025,53.6036036036,56.4971751412,50.04995005,60.2510460251,53.125,62.0795107034,54.5620437956,57.0135746606,42.9584599797,56.064690027,55.0819672131,61.7647058824,\n",
      "2018-05-22 00:00:00,32.3529411765,29.0625,29.2046936115,28.7735849057,36.0,25.1445086705,35.1983723296,29.7450424929,24.2537313433,22.131147541,26.5765765766,27.5779376499,25.2559726962,31.7991631799,28.990228013,28.0878859857,32.9411764706,28.1167108753,29.304029304,27.9026217228,22.3350253807,25.3583241455,30.7471264368,26.0869565217,30.8988764045,\n",
      "2018-05-23 00:00:00,37.7192982456,38.062283737,36.7374005305,36.6279069767,37.8531073446,32.9561527581,38.2056451613,42.0253164557,36.7983367983,31.1594202899,48.8479262673,34.5646437995,36.0153256705,38.1188118812,35.6209150327,44.0196078431,35.0230414747,38.2789317507,39.4904458599,29.5238095238,38.1909547739,32.9473684211,33.7175792507,37.2180451128,40.0,\n",
      "2018-05-24 00:00:00,36.9318181818,43.935309973,36.9925300422,36.1344537815,29.3103448276,34.2756183746,36.505032022,33.4152334152,41.1764705882,36.9230769231,40.293040293,32.6576576577,42.9378531073,42.0091324201,33.0508474576,37.4945438673,43.2343234323,40.3083700441,44.6115288221,39.0769230769,38.3064516129,34.9869451697,37.0023419204,41.6909620991,44.0677966102,\n",
      "2018-05-25 00:00:00,35.401459854,45.1303155007,31.8144566465,34.7916666667,35.4632587859,29.5725297828,41.5437987858,38.7856257745,36.442687747,34.1954022989,38.0032206119,28.6924939467,36.5411436541,31.5602836879,35.650887574,29.7769893563,40.2730375427,37.2202591284,31.234256927,36.2770562771,36.4562118126,33.423059668,36.5291262136,29.1215403129,38.4428223844,\n",
      "2018-05-26 00:00:00,18.3976261128,9.96131528046,10.8189537113,11.5843270869,13.164556962,12.5366568915,10.708560436,10.9540636042,11.250873515,9.82800982801,11.1773472429,12.3212321232,8.82658359294,12.6637554585,11.3250283126,13.5875127943,10.5189340813,10.9433962264,10.7723577236,11.3764044944,11.84,10.5307145842,9.90899898888,9.59051724138,8.17843866171,\n",
      "2018-05-27 00:00:00,36.8055555556,33.5260115607,29.1036088475,31.9047619048,24.8648648649,34.0148698885,30.7568438003,23.4042553191,29.3135435993,25.9036144578,30.1255230126,35.261707989,34.2105263158,30.1158301158,35.8974358974,28.5002767017,30.487804878,30.4347826087,34.1935483871,30.890052356,28.2296650718,24.12109375,32.9545454545,31.7406143345,30.7228915663,\n",
      "2018-05-28 00:00:00,40.0,29.8642533937,32.5766871166,36.4341085271,37.3983739837,32.8976034858,42.1787709497,36.3228699552,32.625994695,31.0924369748,31.5476190476,29.0983606557,41.1764705882,37.0967741935,33.0049261084,33.234859675,40.9638554217,29.4372294372,33.023255814,41.416893733,27.9411764706,25.5442670537,35.0597609562,35.8585858586,42.7184466019,\n",
      "2018-05-29 00:00:00,39.880952381,32.6283987915,32.138284251,32.3651452282,27.9569892473,32.3964497041,33.6166194523,32.5227963526,31.679389313,23.2142857143,35.3448275862,27.0731707317,37.7850162866,26.4,36.6153846154,33.2040717402,31.9672131148,42.039800995,28.6173633441,32.7450980392,34.8416289593,32.7424400417,31.7708333333,28.8461538462,28.9340101523,\n",
      "2018-05-30 00:00:00,68.75,67.9096045198,65.3355155483,65.045045045,66.4160401003,64.7855530474,65.6115107914,63.9534883721,64.5090909091,62.1134020619,69.5792880259,60.9963547995,66.0377358491,62.763915547,64.0883977901,62.6128385155,64.8264984227,66.1600810537,64.1534391534,65.4320987654,65.2416356877,58.2242990654,65.9978880676,65.6121045392,66.7992047714,\n",
      "2018-05-31 00:00:00,55.8232931727,68.2008368201,57.939652545,56.25,58.7719298246,50.234741784,60.9675281643,55.0102249489,54.0214477212,48.6363636364,49.8516320475,49.6932515337,62.9411764706,60.396039604,59.2417061611,51.0834485938,55.3459119497,60.4887983707,57.6923076923,60.6837606838,45.7800511509,47.8328173375,59.7806215722,54.5189504373,61.2244897959,\n",
      "2018-06-01 00:00:00,37.5,26.402640264,21.1394302849,17.8743961353,22.3880597015,22.2826086957,21.2121212121,17.027027027,19.9040767386,24.6666666667,19.0697674419,19.0031152648,18.8741721854,23.6559139785,27.6923076923,20.8623087622,16.3551401869,23.7288135593,24.4725738397,22.3382045929,25.2577319588,16.5611814346,24.9275362319,24.0566037736,26.4462809917,\n",
      "2018-06-02 00:00:00,56.2992125984,65.4658385093,67.9811012175,69.0217391304,68.2779456193,64.1493775934,64.4748078565,59.0977443609,68.8612099644,69.8630136986,67.7419354839,67.6240208877,68.2414698163,69.5945945946,69.3959731544,62.5520523498,63.474025974,69.8679471789,73.3333333333,68.4068406841,64.2543859649,56.9951007077,70.0767263427,66.9341894061,71.9178082192,\n",
      "2018-06-03 00:00:00,72.0,75.5148741419,77.2580370811,75.6435643564,73.6979166667,72.4587315378,74.4069912609,75.1545117429,74.8960931006,74.4927536232,78.3489096573,74.8684210526,81.7073170732,83.2653061224,78.5034013605,70.780230028,78.9830508475,82.0540540541,82.1385176185,77.5020016013,78.1914893617,70.2244389027,74.6212121212,80.2853437095,80.7106598985,\n",
      "2018-06-04 00:00:00,38.5964912281,45.2887537994,41.1131898971,39.1891891892,43.2432432432,32.0182094082,45.4354669465,39.4265232975,45.358649789,40.5594405594,32.1888412017,33.5347432024,40.7407407407,47.5308641975,38.6363636364,39.2254840725,37.1727748691,45.045045045,39.4927536232,43.665158371,31.0734463277,28.3743842365,39.2282958199,41.3654618474,45.3237410072,\n",
      "2018-06-05 00:00:00,25.7142857143,19.3181818182,17.9144385027,9.09090909091,21.0526315789,23.9726027397,26.5734265734,17.4418604651,23.7804878049,25.7142857143,19.5402298851,19.6721311475,18.018018018,16.6666666667,15.9090909091,21.00456621,21.6666666667,19.387755102,26.3736263736,18.0722891566,11.4754098361,17.004048583,25.0,14.4578313253,22.4137931034,\n"
     ]
    }
   ],
   "source": [
    "worry=98\n",
    "s = \"\"\n",
    "for date in range(0,23):\n",
    "    s = str(pd.to_datetime(\"2018-05-14\") + timedelta(days=date)) + \",\"\n",
    "    for state in _states:\n",
    "        _all = df[df.state == state][pd.to_datetime(df.just_date) == pd.to_datetime(\"2018-05-14\") + timedelta(days=date)]\n",
    "        _worried = _all[df.worry==worry]\n",
    "        s = s + str(float((_worried.shape[0]*100))/_all.shape[0]) + \",\"\n",
    "    print s"
   ]
  },
  {
   "cell_type": "code",
   "execution_count": 44,
   "metadata": {
    "collapsed": false
   },
   "outputs": [
    {
     "data": {
      "text/plain": [
       "datetime.date(2018, 5, 14)"
      ]
     },
     "execution_count": 44,
     "metadata": {},
     "output_type": "execute_result"
    }
   ],
   "source": [
    "min(df.just_date)"
   ]
  },
  {
   "cell_type": "code",
   "execution_count": 64,
   "metadata": {
    "collapsed": false
   },
   "outputs": [
    {
     "data": {
      "text/plain": [
       "[u'Alabama',\n",
       " u'Arizona',\n",
       " u'California',\n",
       " u'Colorado',\n",
       " u'Connecticut',\n",
       " u'District of Columbia',\n",
       " u'Florida',\n",
       " u'Georgia',\n",
       " u'Illinois',\n",
       " u'Indiana',\n",
       " u'Maryland',\n",
       " u'Massachusetts',\n",
       " u'Michigan',\n",
       " u'Minnesota',\n",
       " u'New Jersey',\n",
       " u'New York',\n",
       " u'North Carolina',\n",
       " u'Ohio',\n",
       " u'Oregon',\n",
       " u'Pennsylvania',\n",
       " u'Tennessee',\n",
       " u'Texas',\n",
       " u'Virginia',\n",
       " u'Washington',\n",
       " u'Wisconsin']"
      ]
     },
     "execution_count": 64,
     "metadata": {},
     "output_type": "execute_result"
    }
   ],
   "source": [
    "_states"
   ]
  },
  {
   "cell_type": "markdown",
   "metadata": {},
   "source": [
    "## Indian states"
   ]
  },
  {
   "cell_type": "code",
   "execution_count": 77,
   "metadata": {
    "collapsed": true
   },
   "outputs": [],
   "source": [
    "indian_states = pd.DataFrame({'counts' : df[df.country == \"India\"].groupby( [ \"state\"] ).size()}).reset_index().state"
   ]
  },
  {
   "cell_type": "code",
   "execution_count": 202,
   "metadata": {
    "collapsed": false
   },
   "outputs": [
    {
     "name": "stdout",
     "output_type": "stream",
     "text": [
      "Andhra Pradesh\n",
      "Delhi\n",
      "Karnataka\n",
      "Madhya Pradesh\n",
      "Maharashtra\n",
      "Tamil Nadu\n",
      "West Bengal\n",
      "7\n"
     ]
    }
   ],
   "source": [
    "counts=0\n",
    "indian_states_fil = []\n",
    "for state in indian_states:\n",
    "    gp = pd.DataFrame({'counts' : df[df.state == state].groupby( [ \"just_date\"] ).size()}).reset_index().sort_values([\"counts\"])\n",
    "    if gp[gp.counts > 100].shape[0] >= 22:\n",
    "        indian_states_fil.append(state)\n",
    "        print state\n",
    "        counts=counts+1\n",
    "print counts"
   ]
  },
  {
   "cell_type": "code",
   "execution_count": 223,
   "metadata": {
    "collapsed": true
   },
   "outputs": [],
   "source": [
    "a = pd.DataFrame({'counts' : df[df.country == \"United States\"].groupby( [ \"state\"] ).size()}).reset_index().sort_values([\"counts\"])\n",
    "indian_states_fil = a[a.counts > 1000].state.values"
   ]
  },
  {
   "cell_type": "code",
   "execution_count": 233,
   "metadata": {
    "collapsed": false
   },
   "outputs": [
    {
     "name": "stdout",
     "output_type": "stream",
     "text": [
      "[u'Alabama' u'Arizona' u'Arkansas' u'California' u'Colorado'\n",
      " u'Connecticut' u'District of Columbia' u'Florida' u'Georgia' u'Hawaii'\n",
      " u'Idaho' u'Illinois' u'Indiana' u'Iowa' u'Kansas' u'Kentucky'\n",
      " u'Louisiana' u'Maine' u'Maryland' u'Massachusetts' u'Michigan'\n",
      " u'Minnesota' u'Missouri' u'Nebraska' u'Nevada' u'New Hampshire'\n",
      " u'New Jersey' u'New Mexico' u'New York' u'North Carolina' u'Ohio'\n",
      " u'Oklahoma' u'Oregon' u'Pennsylvania' u'Rhode Island' u'South Carolina'\n",
      " u'Tennessee' u'Texas' u'Utah' u'Virginia' u'Washington' u'West Virginia'\n",
      " u'Wisconsin']\n"
     ]
    }
   ],
   "source": [
    "indian_states_fil.sort()\n",
    "print indian_states_fil"
   ]
  },
  {
   "cell_type": "code",
   "execution_count": 241,
   "metadata": {
    "collapsed": false
   },
   "outputs": [
    {
     "name": "stderr",
     "output_type": "stream",
     "text": [
      "/usr/local/lib/python2.7/dist-packages/ipykernel_launcher.py:3: UserWarning: Boolean Series key will be reindexed to match DataFrame index.\n",
      "  This is separate from the ipykernel package so we can avoid doing imports until\n"
     ]
    },
    {
     "name": "stdout",
     "output_type": "stream",
     "text": [
      "43.7\n",
      "42.8\n",
      "32.8\n",
      "40.3\n",
      "40.7\n",
      "41.2\n",
      "38.2\n",
      "41.9\n",
      "39.0\n",
      "37.5\n",
      "39.3\n",
      "40.4\n",
      "38.9\n",
      "40.8\n",
      "38.7\n",
      "39.0\n",
      "40.0\n",
      "35.4\n",
      "41.0\n",
      "38.1\n",
      "42.5\n",
      "39.1\n",
      "40.7\n",
      "42.6\n",
      "40.2\n",
      "40.6\n",
      "41.6\n",
      "39.8\n",
      "38.4\n",
      "41.4\n",
      "42.5\n",
      "39.9\n",
      "42.5\n",
      "41.8\n",
      "40.7\n",
      "43.2\n",
      "40.4\n",
      "35.5\n",
      "36.2\n",
      "41.5\n",
      "39.9\n",
      "39.4\n",
      "42.4\n"
     ]
    }
   ],
   "source": [
    "worry=98\n",
    "for state in indian_states_fil:\n",
    "    print round(float(df[df.state == state][df.worry == worry].shape[0]*100)/df[df.state == state].shape[0],1)"
   ]
  },
  {
   "cell_type": "code",
   "execution_count": 198,
   "metadata": {
    "collapsed": false
   },
   "outputs": [
    {
     "name": "stdout",
     "output_type": "stream",
     "text": [
      "[u'Andhra Pradesh', u'Delhi', u'Karnataka', u'Madhya Pradesh', u'Maharashtra', u'Tamil Nadu', u'West Bengal']\n"
     ]
    }
   ],
   "source": [
    "print indian_states_fil"
   ]
  },
  {
   "cell_type": "code",
   "execution_count": 199,
   "metadata": {
    "collapsed": false
   },
   "outputs": [
    {
     "name": "stderr",
     "output_type": "stream",
     "text": [
      "/usr/local/lib/python2.7/dist-packages/ipykernel_launcher.py:6: UserWarning: Boolean Series key will be reindexed to match DataFrame index.\n",
      "  \n",
      "/usr/local/lib/python2.7/dist-packages/ipykernel_launcher.py:7: UserWarning: Boolean Series key will be reindexed to match DataFrame index.\n",
      "  import sys\n"
     ]
    },
    {
     "name": "stdout",
     "output_type": "stream",
     "text": [
      "2018-05-14 00:00:00,11.2612612613,5.47263681592,10.3529411765,8.57503152585,9.83870967742,10.0502512563,6.53266331658,\n",
      "2018-05-15 00:00:00,42.194092827,42.6751592357,50.8393285372,40.3846153846,36.1153262519,43.8202247191,37.7358490566,\n",
      "2018-05-16 00:00:00,48.8,55.0724637681,60.3418803419,58.5648148148,48.9003880983,51.4851485149,40.1960784314,\n",
      "2018-05-17 00:00:00,37.5,54.0404040404,62.6394052045,47.3389355742,43.937007874,48.3333333333,46.1538461538,\n",
      "2018-05-18 00:00:00,58.6319218241,50.9652509653,67.2667757774,53.6717062635,53.2786885246,59.0909090909,48.4693877551,\n",
      "2018-05-19 00:00:00,40.873015873,28.6919831224,50.7795100223,33.7169159954,42.5862068966,45.4545454545,32.2033898305,\n",
      "2018-05-20 00:00:00,21.6312056738,13.75,31.8339100346,20.8515283843,21.3075060533,30.7692307692,14.0410958904,\n",
      "2018-05-21 00:00:00,23.8636363636,25.2669039146,26.6881028939,20.4819277108,22.3915592028,24.2290748899,12.8514056225,\n",
      "2018-05-22 00:00:00,19.3548387097,17.5,16.7557932264,14.5945945946,13.734939759,10.3151862464,14.6825396825,\n",
      "2018-05-23 00:00:00,8.13953488372,10.1243339254,13.731825525,10.5769230769,10.3156708005,6.20592383639,8.52390852391,\n",
      "2018-05-24 00:00:00,16.8168168168,11.3793103448,18.8321167883,13.6402387042,12.9281767956,9.11214953271,9.09090909091,\n",
      "2018-05-25 00:00:00,10.3174603175,10.4316546763,13.6094674556,8.19512195122,10.2710413695,12.2727272727,8.93854748603,\n",
      "2018-05-26 00:00:00,25.9818731118,30.3370786517,41.5254237288,36.8584758942,29.1010194625,24.2105263158,25.6916996047,\n",
      "2018-05-27 00:00:00,31.8181818182,21.9626168224,26.6075388027,27.5675675676,26.9696969697,16.6666666667,22.5988700565,\n",
      "2018-05-28 00:00:00,36.0,50.0,40.8296943231,38.8190954774,44.1102756892,38.2075471698,36.4779874214,\n",
      "2018-05-29 00:00:00,20.3703703704,15.873015873,24.0449438202,14.3859649123,18.7869822485,22.1052631579,10.7594936709,\n",
      "2018-05-30 00:00:00,5.25,4.02144772118,3.03830911493,1.7793594306,3.8029386344,2.7027027027,3.64372469636,\n",
      "2018-05-31 00:00:00,26.8156424581,31.419939577,20.0,26.447016919,24.35500516,20.8904109589,21.2598425197,\n",
      "2018-06-01 00:00:00,20.3703703704,26.1363636364,30.9756097561,22.385620915,22.3506743738,25.3521126761,27.9411764706,\n",
      "2018-06-02 00:00:00,14.4981412639,18.3168316832,13.4585289515,12.703962704,10.0680272109,10.460251046,8.06451612903,\n",
      "2018-06-03 00:00:00,13.7184115523,12.20657277,15.7342657343,10.6815869786,13.2911392405,10.4347826087,7.65765765766,\n",
      "2018-06-04 00:00:00,14.0,10.9589041096,12.6064735945,11.6062176166,11.5107913669,11.7318435754,14.3617021277,\n",
      "2018-06-05 00:00:00,2.38095238095,0.0,2.38095238095,0.892857142857,1.5625,0.0,16.0,\n"
     ]
    }
   ],
   "source": [
    "worry=98\n",
    "s = \"\"\n",
    "for date in range(0,23):\n",
    "    s = str(pd.to_datetime(\"2018-05-14\") + timedelta(days=date)) + \",\"\n",
    "    for state in indian_states_fil:\n",
    "        _all = df[df.state == state][pd.to_datetime(df.just_date) == pd.to_datetime(\"2018-05-14\") + timedelta(days=date)]\n",
    "        _worried = _all[df.worry==worry]\n",
    "        s = s + str(float((_worried.shape[0]*100))/_all.shape[0]) + \",\"\n",
    "    print s"
   ]
  },
  {
   "cell_type": "code",
   "execution_count": 272,
   "metadata": {
    "collapsed": false
   },
   "outputs": [
    {
     "name": "stdout",
     "output_type": "stream",
     "text": [
      "United States 23\n",
      "India 23\n",
      "Canada 22\n",
      "United Kingdom 22\n",
      "Australia 23\n",
      "Malaysia 21\n",
      "Japan 16\n",
      "France 19\n",
      "Philippines 18\n",
      "Pakistan 15\n",
      "10\n"
     ]
    }
   ],
   "source": [
    "counts=0\n",
    "for country in df.country.unique():\n",
    "    gp = pd.DataFrame({'counts' : df[df.country == country].groupby( [ \"just_date\"] ).size()}).reset_index().sort_values([\"counts\"])\n",
    "    if gp[gp.counts > 250].shape[0] >= 15:\n",
    "        print country, gp[gp.counts > 250].shape[0]\n",
    "        counts=counts+1\n",
    "print counts"
   ]
  },
  {
   "cell_type": "markdown",
   "metadata": {},
   "source": [
    "### What worries world"
   ]
  },
  {
   "cell_type": "code",
   "execution_count": 109,
   "metadata": {
    "collapsed": true
   },
   "outputs": [],
   "source": [
    "classes = {91: 'health', 92: 'safety_security', 93 : 'environment',\n",
    "                      94 : 'social_relations', 95 : 'meaning_in_life', 96 : 'achievement',\n",
    "                      97 : 'economics', 98 : 'politics', 99 : 'not_applicable', 0 : 'skip' }"
   ]
  },
  {
   "cell_type": "code",
   "execution_count": 144,
   "metadata": {
    "collapsed": false
   },
   "outputs": [
    {
     "name": "stdout",
     "output_type": "stream",
     "text": [
      ",safety_security,social_relations,politics,health,environment,meaning_in_life,economics,achievement\n"
     ]
    },
    {
     "name": "stderr",
     "output_type": "stream",
     "text": [
      "/usr/local/lib/python2.7/dist-packages/ipykernel_launcher.py:10: UserWarning: Boolean Series key will be reindexed to match DataFrame index.\n",
      "  # Remove the CWD from sys.path while we load stuff.\n"
     ]
    },
    {
     "name": "stdout",
     "output_type": "stream",
     "text": [
      "2018-05-14 00:00:00,31.7714641658,33.8651071045,13.4304599093,14.6485794373,3.44326400664,0.892826244939,1.92061459667,0.0276845347268,\n",
      "2018-05-15 00:00:00,25.1535784536,38.8833408988,20.8019367529,10.1800574974,2.74776819489,1.05310939628,1.18020880617,0.0,\n",
      "2018-05-16 00:00:00,16.4361659605,25.7601193807,45.3193700536,7.87965997815,2.71537826099,0.935326564873,0.914008580489,0.0399712207211,\n",
      "2018-05-17 00:00:00,23.5987202363,23.1834122931,37.0300867532,9.11831661847,2.93791915339,3.1717221436,0.922906540331,0.0369162616132,\n",
      "2018-05-18 00:00:00,31.0885066578,13.6759782248,36.8390114243,8.77399238378,3.70843662944,4.13525187211,1.77371124799,0.00511155979247,\n",
      "2018-05-19 00:00:00,57.4379957827,10.623556582,19.6857114168,7.48318104227,1.53880911738,2.70860528165,0.519630484988,0.00251029219801,\n",
      "2018-05-20 00:00:00,33.1764219021,16.4265576908,29.1829397615,13.7056100147,1.34754157722,4.82890618938,1.31650415126,0.0155187129814,\n",
      "2018-05-21 00:00:00,25.8388465695,16.3183004296,38.8228472021,11.1020322096,2.02430216927,2.85194654577,3.03381744379,0.00790743034872,\n",
      "2018-05-22 00:00:00,27.6821534878,28.5880678142,23.3803546008,12.348906432,2.58573832018,2.64526983305,2.76692118545,0.00258832664682,\n",
      "2018-05-23 00:00:00,43.3493755964,14.9110069286,22.4245944488,13.4589055304,3.17595320085,0.995726673028,1.67406546903,0.010372152844,\n",
      "2018-05-24 00:00:00,39.3883331049,18.3088940661,24.9988579782,10.1731305103,3.09944726143,2.50331186332,1.50975286647,0.0182723493673,\n",
      "2018-05-25 00:00:00,49.4507843589,10.112802973,28.2040319663,5.76347551551,2.76909922057,2.08340184826,1.60160489361,0.0147992238629,\n",
      "2018-05-26 00:00:00,32.720691792,39.9794377782,17.2286068391,5.08562897865,3.46741028674,0.715452650555,0.795729818038,0.0070418567968,\n",
      "2018-05-27 00:00:00,39.8934520957,17.1716886997,28.2380133608,7.28641091411,4.66217549398,1.95901570031,0.766693914367,0.0225498210108,\n",
      "2018-05-28 00:00:00,35.2865443021,16.9912848277,31.6948369206,7.06127030239,5.51630793609,1.96091377261,1.41951670408,0.0693252343853,\n",
      "2018-05-29 00:00:00,42.9188710079,13.8603440157,25.2555189319,9.18206243248,5.25441099078,1.83364263358,1.65914189957,0.0360080879705,\n",
      "2018-05-30 00:00:00,23.2413465516,15.0851171414,45.7625300706,6.561144906,1.61653616904,0.49798507577,7.21848520601,0.0168548794876,\n",
      "2018-05-31 00:00:00,28.4206680136,17.1925375059,39.7197266045,8.07505480806,1.57546318188,1.05747324077,3.9504793019,0.00859734342088,\n",
      "2018-06-01 00:00:00,28.8966126321,26.3240363522,26.452237828,8.61229024814,2.50990000285,1.73784222672,5.42719580639,0.039884903564,\n",
      "2018-06-02 00:00:00,23.7298946679,18.8597927836,49.0389090972,4.77873360112,1.18089196132,0.891271743065,1.5153343562,0.0051717896116,\n",
      "2018-06-03 00:00:00,19.5626964253,11.3107342734,57.6763415741,7.75617216517,1.97475672678,1.05040251424,0.645367304751,0.0235290163191,\n",
      "2018-06-04 00:00:00,34.9067081297,17.8976010662,27.2989782319,12.166814749,4.64238116393,1.74644602399,1.31885828521,0.0222123500666,\n",
      "2018-06-05 00:00:00,58.708070895,9.94580342757,18.7051413505,7.6021678629,2.54870367658,1.65519261755,0.820272447634,0.0146477222792,\n"
     ]
    }
   ],
   "source": [
    "s = \"\"\n",
    "for worry in _df.worry.unique():\n",
    "    s = s + \",\" + classes[worry]\n",
    "print s\n",
    "s = \"\"\n",
    "for date in range(0,23):\n",
    "    s = str(pd.to_datetime(\"2018-05-14\") + timedelta(days=date)) + \",\" \n",
    "    for worry in df.worry.unique():\n",
    "        _all = _df[pd.to_datetime(_df.just_date) == pd.to_datetime(\"2018-05-14\") + timedelta(days=date)]\n",
    "        _worried = _all[_df.worry==worry]\n",
    "        s = s + str(float((_worried.shape[0]*100))/_all.shape[0]) + \",\"\n",
    "    print s"
   ]
  },
  {
   "cell_type": "code",
   "execution_count": 155,
   "metadata": {
    "collapsed": false
   },
   "outputs": [
    {
     "name": "stderr",
     "output_type": "stream",
     "text": [
      "/usr/local/lib/python2.7/dist-packages/ipykernel_launcher.py:1: UserWarning: Boolean Series key will be reindexed to match DataFrame index.\n",
      "  \"\"\"Entry point for launching an IPython kernel.\n"
     ]
    }
   ],
   "source": [
    "a = df[pd.to_datetime(df.just_date) == pd.to_datetime(\"2018-05-26 00:00:00\")][df.worry==92]"
   ]
  },
  {
   "cell_type": "code",
   "execution_count": 156,
   "metadata": {
    "collapsed": false
   },
   "outputs": [
    {
     "data": {
      "text/plain": [
       "array([[u'https://www.nytimes.com/2018/04/26/us/politics/migrant-children-missing.html',\n",
       "        6829],\n",
       "       [u'https://www.yahoo.com/news/trumps-son-concerned-wiretaps-show-trump-jr-met-putin-ally-231215529.html?soc_src=hl-viewer&soc_trk=tw',\n",
       "        1662],\n",
       "       [u'https://www.theguardian.com/uk-news/2017/apr/13/british-spies-first-to-spot-trump-team-links-russia',\n",
       "        911],\n",
       "       [u'https://www.ndtv.com/video/news/left-right-centre/death-threats-to-ravish-kumar-how-journalists-are-hounded-485754',\n",
       "        909],\n",
       "       [u'https://www.ndtv.com/india-news/west-benga-man-thrashed-in-train-for-failing-to-answer-questions-on-pm-modi-national-anthem-1857721',\n",
       "        828],\n",
       "       [u'https://www.ndtv.com/india-news/sikh-police-officer-saving-muslim-man-from-mob-is-hero-on-social-media-1857389',\n",
       "        567],\n",
       "       [u'https://www.theguardian.com/us-news/2018/may/26/indiana-teacher-threw-basketball-to-avert-school-shooter',\n",
       "        510],\n",
       "       [u'https://www.yahoo.com/news/trumps-son-concerned-wiretaps-show-trump-jr-met-putin-ally-231215529.html?.tsrc=fauxdal',\n",
       "        429],\n",
       "       [u'https://www.indiatoday.in/pti-feed/story/delhi-police-solve-gurgaon-killing-while-probing-unidentified-woman-s-death-in-shanti-van-1242058-2018-05-25',\n",
       "        382],\n",
       "       [u'https://mobile.nytimes.com/2018/04/26/us/politics/migrant-children-missing.html',\n",
       "        333]], dtype=object)"
      ]
     },
     "execution_count": 156,
     "metadata": {},
     "output_type": "execute_result"
    }
   ],
   "source": [
    "pd.DataFrame({'counts' : a.groupby( [ \"url\"] ).size()}).reset_index().sort_values([\"counts\"],ascending=False).values[:10]"
   ]
  },
  {
   "cell_type": "code",
   "execution_count": 133,
   "metadata": {
    "collapsed": false
   },
   "outputs": [
    {
     "data": {
      "text/plain": [
       "array([92])"
      ]
     },
     "execution_count": 133,
     "metadata": {},
     "output_type": "execute_result"
    }
   ],
   "source": [
    "df[df.url == \"https://www.yahoo.com/news/trumps-son-concerned-wiretaps-show-trump-jr-met-putin-ally-231215529.html\"].worry.unique()"
   ]
  },
  {
   "cell_type": "code",
   "execution_count": 134,
   "metadata": {
    "collapsed": true
   },
   "outputs": [],
   "source": [
    "_df = df"
   ]
  },
  {
   "cell_type": "code",
   "execution_count": 142,
   "metadata": {
    "collapsed": true
   },
   "outputs": [],
   "source": [
    "url = \"https://www.yahoo.com/news/trumps-son-concerned-wiretaps-show-trump-jr-met-putin-ally-231215529.html\"\n",
    "_df.loc[_df.url == url,\"worry\"] = [94]"
   ]
  },
  {
   "cell_type": "code",
   "execution_count": 147,
   "metadata": {
    "collapsed": false
   },
   "outputs": [
    {
     "name": "stderr",
     "output_type": "stream",
     "text": [
      "/usr/local/lib/python2.7/dist-packages/ipykernel_launcher.py:1: UserWarning: Boolean Series key will be reindexed to match DataFrame index.\n",
      "  \"\"\"Entry point for launching an IPython kernel.\n"
     ]
    },
    {
     "data": {
      "text/plain": [
       "0.3191932848853586"
      ]
     },
     "execution_count": 147,
     "metadata": {},
     "output_type": "execute_result"
    }
   ],
   "source": [
    "float(_df[pd.to_datetime(df.just_date) == pd.to_datetime(\"2018-05-26 00:00:00\")][_df.url == url].shape[0])/_df[pd.to_datetime(df.just_date) == pd.to_datetime(\"2018-05-26 00:00:00\")].shape[0]\n",
    "#_df[_df.url == url].shape[0]/_df[_df.url == url].shape[0]"
   ]
  },
  {
   "cell_type": "code",
   "execution_count": 196,
   "metadata": {
    "collapsed": false
   },
   "outputs": [
    {
     "name": "stderr",
     "output_type": "stream",
     "text": [
      "/usr/local/lib/python2.7/dist-packages/ipykernel_launcher.py:4: UserWarning: Boolean Series key will be reindexed to match DataFrame index.\n",
      "  after removing the cwd from sys.path.\n"
     ]
    },
    {
     "name": "stdout",
     "output_type": "stream",
     "text": [
      "37.2\n",
      "23.4\n",
      "26.7\n",
      "4.7\n",
      "25.0\n",
      "27.0\n",
      "23.0\n",
      "5.6\n",
      "29.0\n",
      "42.1\n",
      "12.3\n",
      "12.8\n",
      "17.2\n",
      "19.4\n",
      "9.7\n",
      "35.6\n",
      "12.5\n",
      "12.8\n",
      "37.0\n",
      "17.9\n",
      "16.4\n",
      "19.7\n",
      "28.3\n",
      "40.1\n"
     ]
    }
   ],
   "source": [
    "worry=98\n",
    "for state in [\"Australia\", \"Belgium\", \"Canada\", \"Colombia\", \"France\", \"Germany\", \"India\", \"Indonesia\", \"Ireland\", \"Italy\", \"Japan\", \"Malaysia\", \"Netherlands\", \"Norway\", \"Pakistan\", \"Philippines\", \"Singapore\", \"South Africa\", \"Spain\", \"Sweden\", \"Thailand\", \"United Arab Emirates\", \"United Kingdom\", \"United States\"]:\n",
    "    \n",
    "    print round(float(df[df.country == state][df.worry == worry].shape[0]*100)/df[df.country == state].shape[0],1)"
   ]
  },
  {
   "cell_type": "code",
   "execution_count": 251,
   "metadata": {
    "collapsed": false
   },
   "outputs": [
    {
     "name": "stderr",
     "output_type": "stream",
     "text": [
      "/usr/local/lib/python2.7/dist-packages/ipykernel_launcher.py:1: UserWarning: Boolean Series key will be reindexed to match DataFrame index.\n",
      "  \"\"\"Entry point for launching an IPython kernel.\n"
     ]
    },
    {
     "data": {
      "text/plain": [
       "array([[u'https://www.nytimes.com/2018/06/02/us/politics/trump-lawyers-memo-mueller-subpoena.html?smid=tw-nytimes&smtyp=cur',\n",
       "        13301],\n",
       "       [u'https://www.nytimes.com/2018/06/02/us/politics/trump-lawyers-memo-mueller-subpoena.html',\n",
       "        11600],\n",
       "       [u'https://mobile.nytimes.com/2018/06/02/us/politics/trump-lawyers-memo-mueller-subpoena.html#click=https://t.co/7DAL5mAj0e',\n",
       "        746],\n",
       "       [u'https://www.nytimes.com/2018/05/29/opinion/midterms-trump-democrats.html',\n",
       "        636],\n",
       "       [u'https://www.nytimes.com/2018/06/02/us/politics/trump-lawyers-memo-mueller-subpoena.html?hp&action=click&pgtype=Homepage&clickSource=story-heading&module=first-column-region&region=top-news&WT.nav=top-news',\n",
       "        428],\n",
       "       [u'https://mobile.nytimes.com/2018/06/02/us/politics/trump-lawyers-memo-mueller-subpoena.html?action=click&module=Top%20Stories&pgtype=Homepage',\n",
       "        247],\n",
       "       [u'https://www.nytimes.com/2018/06/02/opinion/pakistan-military-politics-press-freedom.html',\n",
       "        223],\n",
       "       [u'https://www.nytimes.com/2018/06/02/us/politics/trump-lawyers-memo-mueller-subpoena.html?smprod=nytcore-ipad&smid=nytcore-ipad-share',\n",
       "        221],\n",
       "       [u'https://www.theguardian.com/world/2018/jun/03/catalan-leader-calls-end-indisputable-unity-spain-jordi-sanchez',\n",
       "        171],\n",
       "       [u'https://www.theguardian.com/world/2018/jun/02/mps-urged-back-forced-liberalisation-abortion-northern-ireland',\n",
       "        167]], dtype=object)"
      ]
     },
     "execution_count": 251,
     "metadata": {},
     "output_type": "execute_result"
    }
   ],
   "source": [
    "a = df[pd.to_datetime(df.just_date) == pd.to_datetime(\"2018-06-03\")][df.worry == 98]\n",
    "a = pd.DataFrame({'counts' : a.groupby( [\"url\"] ).size()}).reset_index().sort_values([\"counts\"],ascending = False).values[:10]\n",
    "a"
   ]
  },
  {
   "cell_type": "code",
   "execution_count": 253,
   "metadata": {
    "collapsed": false
   },
   "outputs": [
    {
     "name": "stdout",
     "output_type": "stream",
     "text": [
      "[u'https://www.nytimes.com/2018/06/02/us/politics/trump-lawyers-memo-mueller-subpoena.html?smid=tw-nytimes&smtyp=cur'\n",
      " 13301]\n",
      "[u'https://www.nytimes.com/2018/06/02/us/politics/trump-lawyers-memo-mueller-subpoena.html'\n",
      " 11600]\n",
      "[u'https://mobile.nytimes.com/2018/06/02/us/politics/trump-lawyers-memo-mueller-subpoena.html#click=https://t.co/7DAL5mAj0e'\n",
      " 746]\n",
      "[u'https://www.nytimes.com/2018/05/29/opinion/midterms-trump-democrats.html'\n",
      " 636]\n",
      "[u'https://www.nytimes.com/2018/06/02/us/politics/trump-lawyers-memo-mueller-subpoena.html?hp&action=click&pgtype=Homepage&clickSource=story-heading&module=first-column-region&region=top-news&WT.nav=top-news'\n",
      " 428]\n",
      "[u'https://mobile.nytimes.com/2018/06/02/us/politics/trump-lawyers-memo-mueller-subpoena.html?action=click&module=Top%20Stories&pgtype=Homepage'\n",
      " 247]\n",
      "[u'https://www.nytimes.com/2018/06/02/us/politics/trump-lawyers-memo-mueller-subpoena.html?smprod=nytcore-ipad&smid=nytcore-ipad-share'\n",
      " 221]\n"
     ]
    }
   ],
   "source": [
    "for row in a:\n",
    "    if \"trump\" in row[0]:\n",
    "        print row"
   ]
  },
  {
   "cell_type": "code",
   "execution_count": 255,
   "metadata": {
    "collapsed": false
   },
   "outputs": [
    {
     "name": "stderr",
     "output_type": "stream",
     "text": [
      "/usr/local/lib/python2.7/dist-packages/ipykernel_launcher.py:1: UserWarning: Boolean Series key will be reindexed to match DataFrame index.\n",
      "  \"\"\"Entry point for launching an IPython kernel.\n"
     ]
    },
    {
     "data": {
      "text/plain": [
       "array([[u'United States', 28078],\n",
       "       [u'United Kingdom', 1761],\n",
       "       [u'Canada', 1019],\n",
       "       [u'India', 824],\n",
       "       [u'Australia', 571],\n",
       "       [u'Spain', 290],\n",
       "       [u'Pakistan', 224],\n",
       "       [u'Malaysia', 171],\n",
       "       [u'Germany', 146],\n",
       "       [u'Ireland', 108]], dtype=object)"
      ]
     },
     "execution_count": 255,
     "metadata": {},
     "output_type": "execute_result"
    }
   ],
   "source": [
    "b = df[pd.to_datetime(df.just_date) == pd.to_datetime(\"2018-06-03\")][df.worry == 98]\n",
    "b = pd.DataFrame({'counts' : b.groupby( [\"country\"] ).size()}).reset_index().sort_values([\"counts\"],ascending = False).values[:10]\n",
    "b"
   ]
  },
  {
   "cell_type": "code",
   "execution_count": 262,
   "metadata": {
    "collapsed": true
   },
   "outputs": [],
   "source": [
    "_c = [\"United States\",\n",
    "\"India\",\n",
    "\"Canada\",\n",
    "\"United Kingdom\",\n",
    "\"Australia\",\n",
    "\"Malaysia\",\n",
    "\"Pakistan\"]"
   ]
  },
  {
   "cell_type": "code",
   "execution_count": 276,
   "metadata": {
    "collapsed": false
   },
   "outputs": [
    {
     "name": "stderr",
     "output_type": "stream",
     "text": [
      "/usr/local/lib/python2.7/dist-packages/ipykernel_launcher.py:7: UserWarning: Boolean Series key will be reindexed to match DataFrame index.\n",
      "  import sys\n",
      "/usr/local/lib/python2.7/dist-packages/ipykernel_launcher.py:8: UserWarning: Boolean Series key will be reindexed to match DataFrame index.\n",
      "  \n"
     ]
    },
    {
     "name": "stdout",
     "output_type": "stream",
     "text": [
      "United States 75.3650418725\n",
      "India 11.2629852378\n",
      "Canada 59.5906432749\n",
      "United Kingdom 34.8092508401\n",
      "Australia 49.2666091458\n",
      "Malaysia 29.3310463122\n",
      "Pakistan 40.5063291139\n",
      "42.8759865424\n"
     ]
    }
   ],
   "source": [
    "worry=98\n",
    "s = \"\"\n",
    "for date in range(0,1):\n",
    "    s = str(pd.to_datetime(\"2018-06-03\") + timedelta(days=date)) + \",\"\n",
    "    score = 0.0\n",
    "    for country in _c:\n",
    "        _all = df[df.country == country][pd.to_datetime(df.just_date) == pd.to_datetime(\"2018-06-03\") + timedelta(days=date)]\n",
    "        _worried = _all[df.worry==worry]\n",
    "        score = score + float((_worried.shape[0]*100))/_all.shape[0]\n",
    "        print country , str(float((_worried.shape[0]*100))/_all.shape[0])\n",
    "    print score/len(_c)"
   ]
  },
  {
   "cell_type": "code",
   "execution_count": null,
   "metadata": {
    "collapsed": true
   },
   "outputs": [],
   "source": [
    "df[pd.to_datetime()]"
   ]
  },
  {
   "cell_type": "code",
   "execution_count": null,
   "metadata": {
    "collapsed": true
   },
   "outputs": [],
   "source": [
    "df[df.country == country][pd.to_datetime(df.just_date) == pd.to_datetime(\"2018-05-14\") + timedelta(days=date)]"
   ]
  },
  {
   "cell_type": "code",
   "execution_count": 290,
   "metadata": {
    "collapsed": false
   },
   "outputs": [
    {
     "name": "stderr",
     "output_type": "stream",
     "text": [
      "/usr/local/lib/python2.7/dist-packages/ipykernel_launcher.py:9: UserWarning: Boolean Series key will be reindexed to match DataFrame index.\n",
      "  if __name__ == '__main__':\n",
      "/usr/local/lib/python2.7/dist-packages/ipykernel_launcher.py:10: UserWarning: Boolean Series key will be reindexed to match DataFrame index.\n",
      "  # Remove the CWD from sys.path while we load stuff.\n"
     ]
    },
    {
     "name": "stdout",
     "output_type": "stream",
     "text": [
      "2018-05-14 00:00:00,9.31677018634,8.96247911287,13.8274111675,17.2777678412,21.3138686131,28.8888888889,0.359712230216,\n",
      "2018-05-15 00:00:00,9.22242314647,40.9385396603,19.0455436914,17.0735014917,23.3294255569,31.4009661836,1.96506550218,\n",
      "2018-05-16 00:00:00,30.8699719364,54.3149402103,18.6850152905,53.2593550955,36.2623762376,37.9396984925,4.05405405405,\n",
      "2018-05-17 00:00:00,24.2105263158,50.134589502,16.3319551093,42.3828712335,31.593038822,27.5179856115,8.69565217391,\n",
      "2018-05-18 00:00:00,14.5454545455,55.1162466936,56.5616645356,24.7732973182,49.765258216,13.3940182055,6.06060606061,\n",
      "2018-05-19 00:00:00,7.41710296684,39.8873612722,56.7227833895,9.41308831802,12.5478194338,2.75761973875,4.07407407407,\n",
      "2018-05-20 00:00:00,19.9084668192,22.0074646761,27.9163966299,37.3835847721,17.9035250464,6.52173913043,3.18181818182,\n",
      "2018-05-21 00:00:00,36.1416361416,22.4423631124,25.9013980868,52.9083802736,31.5175097276,3.25732899023,3.09278350515,\n",
      "2018-05-22 00:00:00,18.8622754491,14.1935483871,21.5437579272,28.4222517562,40.6530089629,6.18238021638,1.95381882771,\n",
      "2018-05-23 00:00:00,18.1362725451,10.2418632428,12.2701437646,36.3687605687,64.2407906559,11.3445378151,1.11287758347,\n",
      "2018-05-24 00:00:00,22.4522292994,12.5214224507,10.9682603455,37.3365345321,41.4195867026,13.916500994,3.11418685121,\n",
      "2018-05-25 00:00:00,23.1071228267,10.5680868839,16.7377992206,35.4288434583,30.0653594771,6.69546436285,2.98013245033,\n",
      "2018-05-26 00:00:00,14.7630922693,35.562774699,33.0196936543,11.0925146997,29.6450939457,7.5,4.66926070039,\n",
      "2018-05-27 00:00:00,20.3506097561,27.2902914185,36.1228577788,29.8839907193,36.6972477064,11.3149847095,11.3445378151,\n",
      "2018-05-28 00:00:00,20.782396088,40.6106167536,30.0625300625,33.6590088901,47.1315092674,13.2947976879,4.36241610738,\n",
      "2018-05-29 00:00:00,20.4013377926,16.0683760684,27.3186502324,32.5152646867,9.79699911739,3.29113924051,4.44444444444,\n",
      "2018-05-30 00:00:00,49.5759947815,2.84232941394,25.6683417085,64.4942752862,29.8751200768,3.9586919105,21.5584415584,\n",
      "2018-05-31 00:00:00,35.1151315789,23.9610593531,22.0489977728,56.6794745778,31.8452380952,3.90334572491,5.74712643678,\n",
      "2018-06-01 00:00:00,25.8834765998,22.1907268678,37.6909254268,22.1424588793,55.5977229602,5.00490677134,9.58333333333,\n",
      "2018-06-02 00:00:00,48.5466914038,12.4592592593,32.3621431365,65.1056197688,51.2145748988,5.51330798479,27.5605214153,\n",
      "2018-06-03 00:00:00,59.5906432749,11.2629852378,34.8092508401,75.3650418725,49.2666091458,29.3310463122,40.5063291139,\n",
      "2018-06-04 00:00:00,26.25250501,12.4654468869,24.3670201255,39.60710187,33.4351145038,48.1300813008,16.6666666667,\n",
      "2018-06-05 00:00:00,20.320855615,3.94736842105,13.4920634921,20.029991431,49.6855345912,22.5490196078,20.0,\n"
     ]
    }
   ],
   "source": [
    "worry=98\n",
    "s = \"\"\n",
    "contries = [\n",
    "    \"Canada\",\"India\",\"United Kingdom\",\"United States\",\"Australia\",\"Malaysia\",\"Pakistan\"\n",
    "] \n",
    "for date in range(0,23):\n",
    "    s = str(pd.to_datetime(\"2018-05-14\") + timedelta(days=date)) + \",\"\n",
    "    for country in contries:\n",
    "        _all = df[df.country == country][pd.to_datetime(df.just_date) == pd.to_datetime(\"2018-05-14\") + timedelta(days=date)]\n",
    "        _worried = _all[df.worry==worry]\n",
    "        s = s + str(float((_worried.shape[0]*100))/_all.shape[0]) + \",\"\n",
    "    print s"
   ]
  },
  {
   "cell_type": "code",
   "execution_count": 287,
   "metadata": {
    "collapsed": false
   },
   "outputs": [
    {
     "name": "stderr",
     "output_type": "stream",
     "text": [
      "/usr/local/lib/python2.7/dist-packages/ipykernel_launcher.py:1: UserWarning: Boolean Series key will be reindexed to match DataFrame index.\n",
      "  \"\"\"Entry point for launching an IPython kernel.\n"
     ]
    },
    {
     "data": {
      "text/html": [
       "<div>\n",
       "<style scoped>\n",
       "    .dataframe tbody tr th:only-of-type {\n",
       "        vertical-align: middle;\n",
       "    }\n",
       "\n",
       "    .dataframe tbody tr th {\n",
       "        vertical-align: top;\n",
       "    }\n",
       "\n",
       "    .dataframe thead th {\n",
       "        text-align: right;\n",
       "    }\n",
       "</style>\n",
       "<table border=\"1\" class=\"dataframe\">\n",
       "  <thead>\n",
       "    <tr style=\"text-align: right;\">\n",
       "      <th></th>\n",
       "      <th>country</th>\n",
       "      <th>created_at</th>\n",
       "      <th>polarity</th>\n",
       "      <th>state</th>\n",
       "      <th>tweet_id</th>\n",
       "      <th>url</th>\n",
       "      <th>worry</th>\n",
       "      <th>just_date</th>\n",
       "      <th>96</th>\n",
       "    </tr>\n",
       "  </thead>\n",
       "  <tbody>\n",
       "    <tr>\n",
       "      <th>458000</th>\n",
       "      <td>Pakistan</td>\n",
       "      <td>2018-05-14 09:18:45</td>\n",
       "      <td>Negative</td>\n",
       "      <td>Punjab</td>\n",
       "      <td>995956570453245952</td>\n",
       "      <td>https://www.bbc.com/urdu/pakistan/2012/11/1211...</td>\n",
       "      <td>96</td>\n",
       "      <td>2018-05-14</td>\n",
       "      <td>NaN</td>\n",
       "    </tr>\n",
       "    <tr>\n",
       "      <th>458049</th>\n",
       "      <td>Pakistan</td>\n",
       "      <td>2018-05-14 09:20:18</td>\n",
       "      <td>Negative</td>\n",
       "      <td>NaN</td>\n",
       "      <td>995956961018597380</td>\n",
       "      <td>http://www.thehindu.com/news/the-india-cables/...</td>\n",
       "      <td>94</td>\n",
       "      <td>2018-05-14</td>\n",
       "      <td>NaN</td>\n",
       "    </tr>\n",
       "    <tr>\n",
       "      <th>458098</th>\n",
       "      <td>Pakistan</td>\n",
       "      <td>2018-05-14 09:21:39</td>\n",
       "      <td>Negative</td>\n",
       "      <td>Punjab</td>\n",
       "      <td>995957303303114753</td>\n",
       "      <td>https://mobile.nytimes.com/2008/12/09/opinion/...</td>\n",
       "      <td>92</td>\n",
       "      <td>2018-05-14</td>\n",
       "      <td>NaN</td>\n",
       "    </tr>\n",
       "    <tr>\n",
       "      <th>458099</th>\n",
       "      <td>Pakistan</td>\n",
       "      <td>2018-05-14 09:21:42</td>\n",
       "      <td>Negative</td>\n",
       "      <td>NaN</td>\n",
       "      <td>995957316045430784</td>\n",
       "      <td>https://www.yahoo.com/news/pakistani-ethnic-ri...</td>\n",
       "      <td>92</td>\n",
       "      <td>2018-05-14</td>\n",
       "      <td>NaN</td>\n",
       "    </tr>\n",
       "    <tr>\n",
       "      <th>458181</th>\n",
       "      <td>Pakistan</td>\n",
       "      <td>2018-05-14 09:24:05</td>\n",
       "      <td>Negative</td>\n",
       "      <td>NaN</td>\n",
       "      <td>995957912978755585</td>\n",
       "      <td>https://www.ndtv.com/india-news/nawaz-sharif-a...</td>\n",
       "      <td>92</td>\n",
       "      <td>2018-05-14</td>\n",
       "      <td>NaN</td>\n",
       "    </tr>\n",
       "    <tr>\n",
       "      <th>458183</th>\n",
       "      <td>Pakistan</td>\n",
       "      <td>2018-05-14 09:24:08</td>\n",
       "      <td>Negative</td>\n",
       "      <td>NaN</td>\n",
       "      <td>995957928405487616</td>\n",
       "      <td>https://www.yahoo.com/news/pakistani-ethnic-ri...</td>\n",
       "      <td>92</td>\n",
       "      <td>2018-05-14</td>\n",
       "      <td>NaN</td>\n",
       "    </tr>\n",
       "    <tr>\n",
       "      <th>458194</th>\n",
       "      <td>Pakistan</td>\n",
       "      <td>2018-05-14 09:24:27</td>\n",
       "      <td>Negative</td>\n",
       "      <td>NaN</td>\n",
       "      <td>995958007057076224</td>\n",
       "      <td>https://www.ndtv.com/india-news/nawaz-sharif-a...</td>\n",
       "      <td>92</td>\n",
       "      <td>2018-05-14</td>\n",
       "      <td>NaN</td>\n",
       "    </tr>\n",
       "    <tr>\n",
       "      <th>458287</th>\n",
       "      <td>Pakistan</td>\n",
       "      <td>2018-05-14 09:27:09</td>\n",
       "      <td>Negative</td>\n",
       "      <td>Sindh</td>\n",
       "      <td>995958685343117313</td>\n",
       "      <td>https://www.ndtv.com/world-news/pakistan-suppo...</td>\n",
       "      <td>92</td>\n",
       "      <td>2018-05-14</td>\n",
       "      <td>NaN</td>\n",
       "    </tr>\n",
       "    <tr>\n",
       "      <th>458314</th>\n",
       "      <td>Pakistan</td>\n",
       "      <td>2018-05-14 09:28:19</td>\n",
       "      <td>Negative</td>\n",
       "      <td>NaN</td>\n",
       "      <td>995958981280632832</td>\n",
       "      <td>https://timesofindia.indiatimes.com/india/nawa...</td>\n",
       "      <td>92</td>\n",
       "      <td>2018-05-14</td>\n",
       "      <td>NaN</td>\n",
       "    </tr>\n",
       "    <tr>\n",
       "      <th>458409</th>\n",
       "      <td>Pakistan</td>\n",
       "      <td>2018-05-14 09:31:12</td>\n",
       "      <td>Negative</td>\n",
       "      <td>Sindh</td>\n",
       "      <td>995959706383474688</td>\n",
       "      <td>https://www.nytimes.com/2018/05/13/us/politics...</td>\n",
       "      <td>94</td>\n",
       "      <td>2018-05-14</td>\n",
       "      <td>NaN</td>\n",
       "    </tr>\n",
       "    <tr>\n",
       "      <th>458630</th>\n",
       "      <td>Pakistan</td>\n",
       "      <td>2018-05-14 09:38:59</td>\n",
       "      <td>Negative</td>\n",
       "      <td>Sindh</td>\n",
       "      <td>995961662925570048</td>\n",
       "      <td>https://mobile.nytimes.com/2018/05/13/world/as...</td>\n",
       "      <td>92</td>\n",
       "      <td>2018-05-14</td>\n",
       "      <td>NaN</td>\n",
       "    </tr>\n",
       "    <tr>\n",
       "      <th>458650</th>\n",
       "      <td>Pakistan</td>\n",
       "      <td>2018-05-14 09:39:50</td>\n",
       "      <td>Negative</td>\n",
       "      <td>NaN</td>\n",
       "      <td>995961877623721984</td>\n",
       "      <td>https://www.nytimes.com/2018/05/13/world/asia/...</td>\n",
       "      <td>92</td>\n",
       "      <td>2018-05-14</td>\n",
       "      <td>NaN</td>\n",
       "    </tr>\n",
       "    <tr>\n",
       "      <th>458670</th>\n",
       "      <td>Pakistan</td>\n",
       "      <td>2018-05-14 09:40:23</td>\n",
       "      <td>Negative</td>\n",
       "      <td>Sindh</td>\n",
       "      <td>995962018199896064</td>\n",
       "      <td>https://timesofindia.indiatimes.com/india/Govt...</td>\n",
       "      <td>92</td>\n",
       "      <td>2018-05-14</td>\n",
       "      <td>NaN</td>\n",
       "    </tr>\n",
       "    <tr>\n",
       "      <th>458717</th>\n",
       "      <td>Pakistan</td>\n",
       "      <td>2018-05-14 09:42:06</td>\n",
       "      <td>Negative</td>\n",
       "      <td>Punjab</td>\n",
       "      <td>995962447268843525</td>\n",
       "      <td>https://www.firstpost.com/world/pervez-musharr...</td>\n",
       "      <td>94</td>\n",
       "      <td>2018-05-14</td>\n",
       "      <td>NaN</td>\n",
       "    </tr>\n",
       "    <tr>\n",
       "      <th>458737</th>\n",
       "      <td>Pakistan</td>\n",
       "      <td>2018-05-14 09:42:59</td>\n",
       "      <td>Negative</td>\n",
       "      <td>NaN</td>\n",
       "      <td>995962671936823296</td>\n",
       "      <td>https://mobile.nytimes.com/2018/05/13/world/as...</td>\n",
       "      <td>92</td>\n",
       "      <td>2018-05-14</td>\n",
       "      <td>NaN</td>\n",
       "    </tr>\n",
       "    <tr>\n",
       "      <th>458790</th>\n",
       "      <td>Pakistan</td>\n",
       "      <td>2018-05-14 09:44:48</td>\n",
       "      <td>Negative</td>\n",
       "      <td>NaN</td>\n",
       "      <td>995963128507785216</td>\n",
       "      <td>https://www.nytimes.com/2008/12/09/opinion/09z...</td>\n",
       "      <td>92</td>\n",
       "      <td>2018-05-14</td>\n",
       "      <td>NaN</td>\n",
       "    </tr>\n",
       "    <tr>\n",
       "      <th>458867</th>\n",
       "      <td>Pakistan</td>\n",
       "      <td>2018-05-14 09:47:28</td>\n",
       "      <td>Negative</td>\n",
       "      <td>Punjab</td>\n",
       "      <td>995963800531755008</td>\n",
       "      <td>https://www.nytimes.com/2008/12/09/opinion/09z...</td>\n",
       "      <td>92</td>\n",
       "      <td>2018-05-14</td>\n",
       "      <td>NaN</td>\n",
       "    </tr>\n",
       "    <tr>\n",
       "      <th>458934</th>\n",
       "      <td>Pakistan</td>\n",
       "      <td>2018-05-14 09:50:08</td>\n",
       "      <td>Negative</td>\n",
       "      <td>NaN</td>\n",
       "      <td>995964470219374592</td>\n",
       "      <td>https://www.ndtv.com/world-news/pakistan-suppo...</td>\n",
       "      <td>92</td>\n",
       "      <td>2018-05-14</td>\n",
       "      <td>NaN</td>\n",
       "    </tr>\n",
       "    <tr>\n",
       "      <th>458987</th>\n",
       "      <td>Pakistan</td>\n",
       "      <td>2018-05-14 09:52:08</td>\n",
       "      <td>Negative</td>\n",
       "      <td>NaN</td>\n",
       "      <td>995964975159136256</td>\n",
       "      <td>https://www.ndtv.com/world-news/pakistan-suppo...</td>\n",
       "      <td>92</td>\n",
       "      <td>2018-05-14</td>\n",
       "      <td>NaN</td>\n",
       "    </tr>\n",
       "    <tr>\n",
       "      <th>459055</th>\n",
       "      <td>Pakistan</td>\n",
       "      <td>2018-05-14 09:55:25</td>\n",
       "      <td>Negative</td>\n",
       "      <td>Punjab</td>\n",
       "      <td>995965799847391233</td>\n",
       "      <td>http://www.bbc.com/news/world-asia-india-44105190</td>\n",
       "      <td>92</td>\n",
       "      <td>2018-05-14</td>\n",
       "      <td>NaN</td>\n",
       "    </tr>\n",
       "    <tr>\n",
       "      <th>459112</th>\n",
       "      <td>Pakistan</td>\n",
       "      <td>2018-05-14 09:57:26</td>\n",
       "      <td>Negative</td>\n",
       "      <td>NaN</td>\n",
       "      <td>995966307144294400</td>\n",
       "      <td>https://mobile.nytimes.com/2018/05/13/world/as...</td>\n",
       "      <td>92</td>\n",
       "      <td>2018-05-14</td>\n",
       "      <td>NaN</td>\n",
       "    </tr>\n",
       "    <tr>\n",
       "      <th>459217</th>\n",
       "      <td>Pakistan</td>\n",
       "      <td>2018-05-14 10:01:21</td>\n",
       "      <td>Negative</td>\n",
       "      <td>Sindh</td>\n",
       "      <td>995967294701539333</td>\n",
       "      <td>https://mobile.nytimes.com/2008/12/09/opinion/...</td>\n",
       "      <td>92</td>\n",
       "      <td>2018-05-14</td>\n",
       "      <td>NaN</td>\n",
       "    </tr>\n",
       "    <tr>\n",
       "      <th>459244</th>\n",
       "      <td>Pakistan</td>\n",
       "      <td>2018-05-14 10:02:09</td>\n",
       "      <td>Negative</td>\n",
       "      <td>NaN</td>\n",
       "      <td>995967494358818816</td>\n",
       "      <td>https://www.ndtv.com/world-news/pakistan-suppo...</td>\n",
       "      <td>92</td>\n",
       "      <td>2018-05-14</td>\n",
       "      <td>NaN</td>\n",
       "    </tr>\n",
       "    <tr>\n",
       "      <th>459253</th>\n",
       "      <td>Pakistan</td>\n",
       "      <td>2018-05-14 10:02:31</td>\n",
       "      <td>Negative</td>\n",
       "      <td>Islamabad</td>\n",
       "      <td>995967584615981056</td>\n",
       "      <td>https://mobile.nytimes.com/2018/05/13/world/as...</td>\n",
       "      <td>92</td>\n",
       "      <td>2018-05-14</td>\n",
       "      <td>NaN</td>\n",
       "    </tr>\n",
       "    <tr>\n",
       "      <th>459297</th>\n",
       "      <td>Pakistan</td>\n",
       "      <td>2018-05-14 10:04:02</td>\n",
       "      <td>Negative</td>\n",
       "      <td>NaN</td>\n",
       "      <td>995967966356365312</td>\n",
       "      <td>https://mobile.nytimes.com/2018/05/13/world/as...</td>\n",
       "      <td>92</td>\n",
       "      <td>2018-05-14</td>\n",
       "      <td>NaN</td>\n",
       "    </tr>\n",
       "    <tr>\n",
       "      <th>459428</th>\n",
       "      <td>Pakistan</td>\n",
       "      <td>2018-05-14 10:08:56</td>\n",
       "      <td>Negative</td>\n",
       "      <td>Islamabad</td>\n",
       "      <td>995969203441225729</td>\n",
       "      <td>https://mobile.nytimes.com/2018/05/13/world/as...</td>\n",
       "      <td>92</td>\n",
       "      <td>2018-05-14</td>\n",
       "      <td>NaN</td>\n",
       "    </tr>\n",
       "    <tr>\n",
       "      <th>459608</th>\n",
       "      <td>Pakistan</td>\n",
       "      <td>2018-05-14 10:14:57</td>\n",
       "      <td>Negative</td>\n",
       "      <td>Islamabad</td>\n",
       "      <td>995970713558376449</td>\n",
       "      <td>https://www.indiatoday.in/india/story/shashi-t...</td>\n",
       "      <td>92</td>\n",
       "      <td>2018-05-14</td>\n",
       "      <td>NaN</td>\n",
       "    </tr>\n",
       "    <tr>\n",
       "      <th>459624</th>\n",
       "      <td>Pakistan</td>\n",
       "      <td>2018-05-14 10:15:39</td>\n",
       "      <td>Negative</td>\n",
       "      <td>NaN</td>\n",
       "      <td>995970889727520768</td>\n",
       "      <td>https://www.nytimes.com/2018/05/13/world/asia/...</td>\n",
       "      <td>92</td>\n",
       "      <td>2018-05-14</td>\n",
       "      <td>NaN</td>\n",
       "    </tr>\n",
       "    <tr>\n",
       "      <th>459650</th>\n",
       "      <td>Pakistan</td>\n",
       "      <td>2018-05-14 10:16:25</td>\n",
       "      <td>Negative</td>\n",
       "      <td>NaN</td>\n",
       "      <td>995971082912976896</td>\n",
       "      <td>https://www.ndtv.com/world-news/pakistan-suppo...</td>\n",
       "      <td>92</td>\n",
       "      <td>2018-05-14</td>\n",
       "      <td>NaN</td>\n",
       "    </tr>\n",
       "    <tr>\n",
       "      <th>459703</th>\n",
       "      <td>Pakistan</td>\n",
       "      <td>2018-05-14 10:17:59</td>\n",
       "      <td>Negative</td>\n",
       "      <td>Islamabad</td>\n",
       "      <td>995971478196838400</td>\n",
       "      <td>https://www.news18.com/news/india/nawaz-sharif...</td>\n",
       "      <td>94</td>\n",
       "      <td>2018-05-14</td>\n",
       "      <td>NaN</td>\n",
       "    </tr>\n",
       "    <tr>\n",
       "      <th>...</th>\n",
       "      <td>...</td>\n",
       "      <td>...</td>\n",
       "      <td>...</td>\n",
       "      <td>...</td>\n",
       "      <td>...</td>\n",
       "      <td>...</td>\n",
       "      <td>...</td>\n",
       "      <td>...</td>\n",
       "      <td>...</td>\n",
       "    </tr>\n",
       "    <tr>\n",
       "      <th>481533</th>\n",
       "      <td>Pakistan</td>\n",
       "      <td>2018-05-14 20:08:09</td>\n",
       "      <td>Negative</td>\n",
       "      <td>Islamabad</td>\n",
       "      <td>996120000573427712</td>\n",
       "      <td>https://www.theguardian.com/world/2018/may/14/...</td>\n",
       "      <td>94</td>\n",
       "      <td>2018-05-14</td>\n",
       "      <td>NaN</td>\n",
       "    </tr>\n",
       "    <tr>\n",
       "      <th>481695</th>\n",
       "      <td>Pakistan</td>\n",
       "      <td>2018-05-14 20:14:43</td>\n",
       "      <td>Negative</td>\n",
       "      <td>Punjab</td>\n",
       "      <td>996121652810395648</td>\n",
       "      <td>https://mobile.nytimes.com/2018/05/13/world/as...</td>\n",
       "      <td>92</td>\n",
       "      <td>2018-05-14</td>\n",
       "      <td>NaN</td>\n",
       "    </tr>\n",
       "    <tr>\n",
       "      <th>481816</th>\n",
       "      <td>Pakistan</td>\n",
       "      <td>2018-05-14 20:20:04</td>\n",
       "      <td>Negative</td>\n",
       "      <td>NaN</td>\n",
       "      <td>996122998770827264</td>\n",
       "      <td>https://timesofindia.indiatimes.com/city/hyder...</td>\n",
       "      <td>92</td>\n",
       "      <td>2018-05-14</td>\n",
       "      <td>NaN</td>\n",
       "    </tr>\n",
       "    <tr>\n",
       "      <th>481905</th>\n",
       "      <td>Pakistan</td>\n",
       "      <td>2018-05-14 20:23:39</td>\n",
       "      <td>Negative</td>\n",
       "      <td>NaN</td>\n",
       "      <td>996123898356879361</td>\n",
       "      <td>https://www.theguardian.com/politics/2017/jan/...</td>\n",
       "      <td>94</td>\n",
       "      <td>2018-05-14</td>\n",
       "      <td>NaN</td>\n",
       "    </tr>\n",
       "    <tr>\n",
       "      <th>481959</th>\n",
       "      <td>Pakistan</td>\n",
       "      <td>2018-05-14 20:25:20</td>\n",
       "      <td>Negative</td>\n",
       "      <td>NaN</td>\n",
       "      <td>996124325362233346</td>\n",
       "      <td>https://www.ndtv.com/india-news/nawaz-sharif-a...</td>\n",
       "      <td>92</td>\n",
       "      <td>2018-05-14</td>\n",
       "      <td>NaN</td>\n",
       "    </tr>\n",
       "    <tr>\n",
       "      <th>482030</th>\n",
       "      <td>Pakistan</td>\n",
       "      <td>2018-05-14 20:27:52</td>\n",
       "      <td>Negative</td>\n",
       "      <td>Sindh</td>\n",
       "      <td>996124960077869056</td>\n",
       "      <td>https://www.nytimes.com/2018/05/13/world/asia/...</td>\n",
       "      <td>92</td>\n",
       "      <td>2018-05-14</td>\n",
       "      <td>NaN</td>\n",
       "    </tr>\n",
       "    <tr>\n",
       "      <th>482348</th>\n",
       "      <td>Pakistan</td>\n",
       "      <td>2018-05-14 20:40:03</td>\n",
       "      <td>Negative</td>\n",
       "      <td>Sindh</td>\n",
       "      <td>996128025933627392</td>\n",
       "      <td>http://www.bbc.com/news/world-middle-east-4410...</td>\n",
       "      <td>94</td>\n",
       "      <td>2018-05-14</td>\n",
       "      <td>NaN</td>\n",
       "    </tr>\n",
       "    <tr>\n",
       "      <th>482817</th>\n",
       "      <td>Pakistan</td>\n",
       "      <td>2018-05-14 20:57:25</td>\n",
       "      <td>Negative</td>\n",
       "      <td>Punjab</td>\n",
       "      <td>996132397367296000</td>\n",
       "      <td>https://mobile.nytimes.com/2008/12/09/opinion/...</td>\n",
       "      <td>92</td>\n",
       "      <td>2018-05-14</td>\n",
       "      <td>NaN</td>\n",
       "    </tr>\n",
       "    <tr>\n",
       "      <th>482831</th>\n",
       "      <td>Pakistan</td>\n",
       "      <td>2018-05-14 20:57:58</td>\n",
       "      <td>Negative</td>\n",
       "      <td>Sindh</td>\n",
       "      <td>996132535376728069</td>\n",
       "      <td>https://www.theguardian.com/world/2018/may/14/...</td>\n",
       "      <td>94</td>\n",
       "      <td>2018-05-14</td>\n",
       "      <td>NaN</td>\n",
       "    </tr>\n",
       "    <tr>\n",
       "      <th>483082</th>\n",
       "      <td>Pakistan</td>\n",
       "      <td>2018-05-14 21:08:13</td>\n",
       "      <td>Verynegative</td>\n",
       "      <td>NaN</td>\n",
       "      <td>996135113887973376</td>\n",
       "      <td>https://www.theguardian.com/world/2018/may/14/...</td>\n",
       "      <td>94</td>\n",
       "      <td>2018-05-14</td>\n",
       "      <td>NaN</td>\n",
       "    </tr>\n",
       "    <tr>\n",
       "      <th>483115</th>\n",
       "      <td>Pakistan</td>\n",
       "      <td>2018-05-14 21:09:37</td>\n",
       "      <td>Negative</td>\n",
       "      <td>Punjab</td>\n",
       "      <td>996135468021534722</td>\n",
       "      <td>https://www.theguardian.com/world/live/2018/ma...</td>\n",
       "      <td>92</td>\n",
       "      <td>2018-05-14</td>\n",
       "      <td>NaN</td>\n",
       "    </tr>\n",
       "    <tr>\n",
       "      <th>483423</th>\n",
       "      <td>Pakistan</td>\n",
       "      <td>2018-05-14 21:19:56</td>\n",
       "      <td>Negative</td>\n",
       "      <td>NaN</td>\n",
       "      <td>996138065461760000</td>\n",
       "      <td>https://www.ndtv.com/world-news/nawaz-sharifs-...</td>\n",
       "      <td>94</td>\n",
       "      <td>2018-05-14</td>\n",
       "      <td>NaN</td>\n",
       "    </tr>\n",
       "    <tr>\n",
       "      <th>483455</th>\n",
       "      <td>Pakistan</td>\n",
       "      <td>2018-05-14 21:20:49</td>\n",
       "      <td>Negative</td>\n",
       "      <td>NaN</td>\n",
       "      <td>996138287940194304</td>\n",
       "      <td>https://www.ndtv.com/world-news/nawaz-sharifs-...</td>\n",
       "      <td>94</td>\n",
       "      <td>2018-05-14</td>\n",
       "      <td>NaN</td>\n",
       "    </tr>\n",
       "    <tr>\n",
       "      <th>483471</th>\n",
       "      <td>Pakistan</td>\n",
       "      <td>2018-05-14 21:21:34</td>\n",
       "      <td>Negative</td>\n",
       "      <td>Punjab</td>\n",
       "      <td>996138474083414018</td>\n",
       "      <td>https://www.ndtv.com/world-news/nawaz-sharifs-...</td>\n",
       "      <td>94</td>\n",
       "      <td>2018-05-14</td>\n",
       "      <td>NaN</td>\n",
       "    </tr>\n",
       "    <tr>\n",
       "      <th>483619</th>\n",
       "      <td>Pakistan</td>\n",
       "      <td>2018-05-14 21:27:05</td>\n",
       "      <td>Negative</td>\n",
       "      <td>Punjab</td>\n",
       "      <td>996139862796447744</td>\n",
       "      <td>https://mobile.nytimes.com/2018/05/13/world/as...</td>\n",
       "      <td>92</td>\n",
       "      <td>2018-05-14</td>\n",
       "      <td>NaN</td>\n",
       "    </tr>\n",
       "    <tr>\n",
       "      <th>484027</th>\n",
       "      <td>Pakistan</td>\n",
       "      <td>2018-05-14 21:42:47</td>\n",
       "      <td>Negative</td>\n",
       "      <td>Sindh</td>\n",
       "      <td>996143814338334726</td>\n",
       "      <td>https://mobile.nytimes.com/2018/05/14/world/mi...</td>\n",
       "      <td>94</td>\n",
       "      <td>2018-05-14</td>\n",
       "      <td>NaN</td>\n",
       "    </tr>\n",
       "    <tr>\n",
       "      <th>484100</th>\n",
       "      <td>Pakistan</td>\n",
       "      <td>2018-05-14 21:45:50</td>\n",
       "      <td>Negative</td>\n",
       "      <td>Punjab</td>\n",
       "      <td>996144582458007563</td>\n",
       "      <td>https://www.nytimes.com/2018/05/11/world/asia/...</td>\n",
       "      <td>95</td>\n",
       "      <td>2018-05-14</td>\n",
       "      <td>NaN</td>\n",
       "    </tr>\n",
       "    <tr>\n",
       "      <th>484554</th>\n",
       "      <td>Pakistan</td>\n",
       "      <td>2018-05-14 22:02:09</td>\n",
       "      <td>Negative</td>\n",
       "      <td>Islamabad</td>\n",
       "      <td>996148689545592832</td>\n",
       "      <td>https://www.ndtv.com/world-news/new-us-embassy...</td>\n",
       "      <td>94</td>\n",
       "      <td>2018-05-14</td>\n",
       "      <td>NaN</td>\n",
       "    </tr>\n",
       "    <tr>\n",
       "      <th>484666</th>\n",
       "      <td>Pakistan</td>\n",
       "      <td>2018-05-14 22:06:44</td>\n",
       "      <td>Negative</td>\n",
       "      <td>Islamabad</td>\n",
       "      <td>996149841502851072</td>\n",
       "      <td>https://mobile.nytimes.com/2018/05/13/world/as...</td>\n",
       "      <td>92</td>\n",
       "      <td>2018-05-14</td>\n",
       "      <td>NaN</td>\n",
       "    </tr>\n",
       "    <tr>\n",
       "      <th>484895</th>\n",
       "      <td>Pakistan</td>\n",
       "      <td>2018-05-14 22:16:41</td>\n",
       "      <td>Negative</td>\n",
       "      <td>Sindh</td>\n",
       "      <td>996152345485611010</td>\n",
       "      <td>https://www.yahoo.com/news/north-korea-won-apo...</td>\n",
       "      <td>94</td>\n",
       "      <td>2018-05-14</td>\n",
       "      <td>NaN</td>\n",
       "    </tr>\n",
       "    <tr>\n",
       "      <th>484907</th>\n",
       "      <td>Pakistan</td>\n",
       "      <td>2018-05-14 22:17:07</td>\n",
       "      <td>Verynegative</td>\n",
       "      <td>Sindh</td>\n",
       "      <td>996152454466203649</td>\n",
       "      <td>https://www.yahoo.com/news/saudi-troops-arrive...</td>\n",
       "      <td>94</td>\n",
       "      <td>2018-05-14</td>\n",
       "      <td>NaN</td>\n",
       "    </tr>\n",
       "    <tr>\n",
       "      <th>485212</th>\n",
       "      <td>Pakistan</td>\n",
       "      <td>2018-05-14 22:30:26</td>\n",
       "      <td>Negative</td>\n",
       "      <td>NaN</td>\n",
       "      <td>996155806029623296</td>\n",
       "      <td>http://www.bbc.com/news/world-middle-east-4410...</td>\n",
       "      <td>94</td>\n",
       "      <td>2018-05-14</td>\n",
       "      <td>NaN</td>\n",
       "    </tr>\n",
       "    <tr>\n",
       "      <th>485531</th>\n",
       "      <td>Pakistan</td>\n",
       "      <td>2018-05-14 22:45:46</td>\n",
       "      <td>Negative</td>\n",
       "      <td>NaN</td>\n",
       "      <td>996159664806158341</td>\n",
       "      <td>https://www.nytimes.com/2018/05/14/world/asia/...</td>\n",
       "      <td>92</td>\n",
       "      <td>2018-05-14</td>\n",
       "      <td>NaN</td>\n",
       "    </tr>\n",
       "    <tr>\n",
       "      <th>485539</th>\n",
       "      <td>Pakistan</td>\n",
       "      <td>2018-05-14 22:46:36</td>\n",
       "      <td>Negative</td>\n",
       "      <td>Punjab</td>\n",
       "      <td>996159873539854336</td>\n",
       "      <td>https://www.theguardian.com/world/live/2018/ma...</td>\n",
       "      <td>92</td>\n",
       "      <td>2018-05-14</td>\n",
       "      <td>NaN</td>\n",
       "    </tr>\n",
       "    <tr>\n",
       "      <th>485986</th>\n",
       "      <td>Pakistan</td>\n",
       "      <td>2018-05-14 23:09:17</td>\n",
       "      <td>Negative</td>\n",
       "      <td>NaN</td>\n",
       "      <td>996165584663535617</td>\n",
       "      <td>http://www.bbc.com/news/world-middle-east-4410...</td>\n",
       "      <td>94</td>\n",
       "      <td>2018-05-14</td>\n",
       "      <td>NaN</td>\n",
       "    </tr>\n",
       "    <tr>\n",
       "      <th>486509</th>\n",
       "      <td>Pakistan</td>\n",
       "      <td>2018-05-14 23:36:11</td>\n",
       "      <td>Negative</td>\n",
       "      <td>Punjab</td>\n",
       "      <td>996172351942287360</td>\n",
       "      <td>https://timesofindia.indiatimes.com/india/Govt...</td>\n",
       "      <td>92</td>\n",
       "      <td>2018-05-14</td>\n",
       "      <td>NaN</td>\n",
       "    </tr>\n",
       "    <tr>\n",
       "      <th>486564</th>\n",
       "      <td>Pakistan</td>\n",
       "      <td>2018-05-14 23:39:27</td>\n",
       "      <td>Negative</td>\n",
       "      <td>Punjab</td>\n",
       "      <td>996173173761523713</td>\n",
       "      <td>https://mobile.nytimes.com/2008/12/09/opinion/...</td>\n",
       "      <td>92</td>\n",
       "      <td>2018-05-14</td>\n",
       "      <td>NaN</td>\n",
       "    </tr>\n",
       "    <tr>\n",
       "      <th>486658</th>\n",
       "      <td>Pakistan</td>\n",
       "      <td>2018-05-14 23:44:49</td>\n",
       "      <td>Negative</td>\n",
       "      <td>NaN</td>\n",
       "      <td>996174526940700677</td>\n",
       "      <td>https://www.yahoo.com/news/gaza-day-blood-sorr...</td>\n",
       "      <td>92</td>\n",
       "      <td>2018-05-14</td>\n",
       "      <td>NaN</td>\n",
       "    </tr>\n",
       "    <tr>\n",
       "      <th>486689</th>\n",
       "      <td>Pakistan</td>\n",
       "      <td>2018-05-14 23:46:50</td>\n",
       "      <td>Negative</td>\n",
       "      <td>Sindh</td>\n",
       "      <td>996175032912052224</td>\n",
       "      <td>https://www.theguardian.com/world/2008/dec/07/...</td>\n",
       "      <td>92</td>\n",
       "      <td>2018-05-14</td>\n",
       "      <td>NaN</td>\n",
       "    </tr>\n",
       "    <tr>\n",
       "      <th>486814</th>\n",
       "      <td>Pakistan</td>\n",
       "      <td>2018-05-14 23:55:46</td>\n",
       "      <td>Verynegative</td>\n",
       "      <td>Punjab</td>\n",
       "      <td>996177282824798208</td>\n",
       "      <td>https://www.theguardian.com/world/2018/may/14/...</td>\n",
       "      <td>94</td>\n",
       "      <td>2018-05-14</td>\n",
       "      <td>NaN</td>\n",
       "    </tr>\n",
       "  </tbody>\n",
       "</table>\n",
       "<p>278 rows × 9 columns</p>\n",
       "</div>"
      ],
      "text/plain": [
       "         country           created_at      polarity      state  \\\n",
       "458000  Pakistan  2018-05-14 09:18:45      Negative     Punjab   \n",
       "458049  Pakistan  2018-05-14 09:20:18      Negative        NaN   \n",
       "458098  Pakistan  2018-05-14 09:21:39      Negative     Punjab   \n",
       "458099  Pakistan  2018-05-14 09:21:42      Negative        NaN   \n",
       "458181  Pakistan  2018-05-14 09:24:05      Negative        NaN   \n",
       "458183  Pakistan  2018-05-14 09:24:08      Negative        NaN   \n",
       "458194  Pakistan  2018-05-14 09:24:27      Negative        NaN   \n",
       "458287  Pakistan  2018-05-14 09:27:09      Negative      Sindh   \n",
       "458314  Pakistan  2018-05-14 09:28:19      Negative        NaN   \n",
       "458409  Pakistan  2018-05-14 09:31:12      Negative      Sindh   \n",
       "458630  Pakistan  2018-05-14 09:38:59      Negative      Sindh   \n",
       "458650  Pakistan  2018-05-14 09:39:50      Negative        NaN   \n",
       "458670  Pakistan  2018-05-14 09:40:23      Negative      Sindh   \n",
       "458717  Pakistan  2018-05-14 09:42:06      Negative     Punjab   \n",
       "458737  Pakistan  2018-05-14 09:42:59      Negative        NaN   \n",
       "458790  Pakistan  2018-05-14 09:44:48      Negative        NaN   \n",
       "458867  Pakistan  2018-05-14 09:47:28      Negative     Punjab   \n",
       "458934  Pakistan  2018-05-14 09:50:08      Negative        NaN   \n",
       "458987  Pakistan  2018-05-14 09:52:08      Negative        NaN   \n",
       "459055  Pakistan  2018-05-14 09:55:25      Negative     Punjab   \n",
       "459112  Pakistan  2018-05-14 09:57:26      Negative        NaN   \n",
       "459217  Pakistan  2018-05-14 10:01:21      Negative      Sindh   \n",
       "459244  Pakistan  2018-05-14 10:02:09      Negative        NaN   \n",
       "459253  Pakistan  2018-05-14 10:02:31      Negative  Islamabad   \n",
       "459297  Pakistan  2018-05-14 10:04:02      Negative        NaN   \n",
       "459428  Pakistan  2018-05-14 10:08:56      Negative  Islamabad   \n",
       "459608  Pakistan  2018-05-14 10:14:57      Negative  Islamabad   \n",
       "459624  Pakistan  2018-05-14 10:15:39      Negative        NaN   \n",
       "459650  Pakistan  2018-05-14 10:16:25      Negative        NaN   \n",
       "459703  Pakistan  2018-05-14 10:17:59      Negative  Islamabad   \n",
       "...          ...                  ...           ...        ...   \n",
       "481533  Pakistan  2018-05-14 20:08:09      Negative  Islamabad   \n",
       "481695  Pakistan  2018-05-14 20:14:43      Negative     Punjab   \n",
       "481816  Pakistan  2018-05-14 20:20:04      Negative        NaN   \n",
       "481905  Pakistan  2018-05-14 20:23:39      Negative        NaN   \n",
       "481959  Pakistan  2018-05-14 20:25:20      Negative        NaN   \n",
       "482030  Pakistan  2018-05-14 20:27:52      Negative      Sindh   \n",
       "482348  Pakistan  2018-05-14 20:40:03      Negative      Sindh   \n",
       "482817  Pakistan  2018-05-14 20:57:25      Negative     Punjab   \n",
       "482831  Pakistan  2018-05-14 20:57:58      Negative      Sindh   \n",
       "483082  Pakistan  2018-05-14 21:08:13  Verynegative        NaN   \n",
       "483115  Pakistan  2018-05-14 21:09:37      Negative     Punjab   \n",
       "483423  Pakistan  2018-05-14 21:19:56      Negative        NaN   \n",
       "483455  Pakistan  2018-05-14 21:20:49      Negative        NaN   \n",
       "483471  Pakistan  2018-05-14 21:21:34      Negative     Punjab   \n",
       "483619  Pakistan  2018-05-14 21:27:05      Negative     Punjab   \n",
       "484027  Pakistan  2018-05-14 21:42:47      Negative      Sindh   \n",
       "484100  Pakistan  2018-05-14 21:45:50      Negative     Punjab   \n",
       "484554  Pakistan  2018-05-14 22:02:09      Negative  Islamabad   \n",
       "484666  Pakistan  2018-05-14 22:06:44      Negative  Islamabad   \n",
       "484895  Pakistan  2018-05-14 22:16:41      Negative      Sindh   \n",
       "484907  Pakistan  2018-05-14 22:17:07  Verynegative      Sindh   \n",
       "485212  Pakistan  2018-05-14 22:30:26      Negative        NaN   \n",
       "485531  Pakistan  2018-05-14 22:45:46      Negative        NaN   \n",
       "485539  Pakistan  2018-05-14 22:46:36      Negative     Punjab   \n",
       "485986  Pakistan  2018-05-14 23:09:17      Negative        NaN   \n",
       "486509  Pakistan  2018-05-14 23:36:11      Negative     Punjab   \n",
       "486564  Pakistan  2018-05-14 23:39:27      Negative     Punjab   \n",
       "486658  Pakistan  2018-05-14 23:44:49      Negative        NaN   \n",
       "486689  Pakistan  2018-05-14 23:46:50      Negative      Sindh   \n",
       "486814  Pakistan  2018-05-14 23:55:46  Verynegative     Punjab   \n",
       "\n",
       "                  tweet_id                                                url  \\\n",
       "458000  995956570453245952  https://www.bbc.com/urdu/pakistan/2012/11/1211...   \n",
       "458049  995956961018597380  http://www.thehindu.com/news/the-india-cables/...   \n",
       "458098  995957303303114753  https://mobile.nytimes.com/2008/12/09/opinion/...   \n",
       "458099  995957316045430784  https://www.yahoo.com/news/pakistani-ethnic-ri...   \n",
       "458181  995957912978755585  https://www.ndtv.com/india-news/nawaz-sharif-a...   \n",
       "458183  995957928405487616  https://www.yahoo.com/news/pakistani-ethnic-ri...   \n",
       "458194  995958007057076224  https://www.ndtv.com/india-news/nawaz-sharif-a...   \n",
       "458287  995958685343117313  https://www.ndtv.com/world-news/pakistan-suppo...   \n",
       "458314  995958981280632832  https://timesofindia.indiatimes.com/india/nawa...   \n",
       "458409  995959706383474688  https://www.nytimes.com/2018/05/13/us/politics...   \n",
       "458630  995961662925570048  https://mobile.nytimes.com/2018/05/13/world/as...   \n",
       "458650  995961877623721984  https://www.nytimes.com/2018/05/13/world/asia/...   \n",
       "458670  995962018199896064  https://timesofindia.indiatimes.com/india/Govt...   \n",
       "458717  995962447268843525  https://www.firstpost.com/world/pervez-musharr...   \n",
       "458737  995962671936823296  https://mobile.nytimes.com/2018/05/13/world/as...   \n",
       "458790  995963128507785216  https://www.nytimes.com/2008/12/09/opinion/09z...   \n",
       "458867  995963800531755008  https://www.nytimes.com/2008/12/09/opinion/09z...   \n",
       "458934  995964470219374592  https://www.ndtv.com/world-news/pakistan-suppo...   \n",
       "458987  995964975159136256  https://www.ndtv.com/world-news/pakistan-suppo...   \n",
       "459055  995965799847391233  http://www.bbc.com/news/world-asia-india-44105190   \n",
       "459112  995966307144294400  https://mobile.nytimes.com/2018/05/13/world/as...   \n",
       "459217  995967294701539333  https://mobile.nytimes.com/2008/12/09/opinion/...   \n",
       "459244  995967494358818816  https://www.ndtv.com/world-news/pakistan-suppo...   \n",
       "459253  995967584615981056  https://mobile.nytimes.com/2018/05/13/world/as...   \n",
       "459297  995967966356365312  https://mobile.nytimes.com/2018/05/13/world/as...   \n",
       "459428  995969203441225729  https://mobile.nytimes.com/2018/05/13/world/as...   \n",
       "459608  995970713558376449  https://www.indiatoday.in/india/story/shashi-t...   \n",
       "459624  995970889727520768  https://www.nytimes.com/2018/05/13/world/asia/...   \n",
       "459650  995971082912976896  https://www.ndtv.com/world-news/pakistan-suppo...   \n",
       "459703  995971478196838400  https://www.news18.com/news/india/nawaz-sharif...   \n",
       "...                    ...                                                ...   \n",
       "481533  996120000573427712  https://www.theguardian.com/world/2018/may/14/...   \n",
       "481695  996121652810395648  https://mobile.nytimes.com/2018/05/13/world/as...   \n",
       "481816  996122998770827264  https://timesofindia.indiatimes.com/city/hyder...   \n",
       "481905  996123898356879361  https://www.theguardian.com/politics/2017/jan/...   \n",
       "481959  996124325362233346  https://www.ndtv.com/india-news/nawaz-sharif-a...   \n",
       "482030  996124960077869056  https://www.nytimes.com/2018/05/13/world/asia/...   \n",
       "482348  996128025933627392  http://www.bbc.com/news/world-middle-east-4410...   \n",
       "482817  996132397367296000  https://mobile.nytimes.com/2008/12/09/opinion/...   \n",
       "482831  996132535376728069  https://www.theguardian.com/world/2018/may/14/...   \n",
       "483082  996135113887973376  https://www.theguardian.com/world/2018/may/14/...   \n",
       "483115  996135468021534722  https://www.theguardian.com/world/live/2018/ma...   \n",
       "483423  996138065461760000  https://www.ndtv.com/world-news/nawaz-sharifs-...   \n",
       "483455  996138287940194304  https://www.ndtv.com/world-news/nawaz-sharifs-...   \n",
       "483471  996138474083414018  https://www.ndtv.com/world-news/nawaz-sharifs-...   \n",
       "483619  996139862796447744  https://mobile.nytimes.com/2018/05/13/world/as...   \n",
       "484027  996143814338334726  https://mobile.nytimes.com/2018/05/14/world/mi...   \n",
       "484100  996144582458007563  https://www.nytimes.com/2018/05/11/world/asia/...   \n",
       "484554  996148689545592832  https://www.ndtv.com/world-news/new-us-embassy...   \n",
       "484666  996149841502851072  https://mobile.nytimes.com/2018/05/13/world/as...   \n",
       "484895  996152345485611010  https://www.yahoo.com/news/north-korea-won-apo...   \n",
       "484907  996152454466203649  https://www.yahoo.com/news/saudi-troops-arrive...   \n",
       "485212  996155806029623296  http://www.bbc.com/news/world-middle-east-4410...   \n",
       "485531  996159664806158341  https://www.nytimes.com/2018/05/14/world/asia/...   \n",
       "485539  996159873539854336  https://www.theguardian.com/world/live/2018/ma...   \n",
       "485986  996165584663535617  http://www.bbc.com/news/world-middle-east-4410...   \n",
       "486509  996172351942287360  https://timesofindia.indiatimes.com/india/Govt...   \n",
       "486564  996173173761523713  https://mobile.nytimes.com/2008/12/09/opinion/...   \n",
       "486658  996174526940700677  https://www.yahoo.com/news/gaza-day-blood-sorr...   \n",
       "486689  996175032912052224  https://www.theguardian.com/world/2008/dec/07/...   \n",
       "486814  996177282824798208  https://www.theguardian.com/world/2018/may/14/...   \n",
       "\n",
       "        worry   just_date  96  \n",
       "458000     96  2018-05-14 NaN  \n",
       "458049     94  2018-05-14 NaN  \n",
       "458098     92  2018-05-14 NaN  \n",
       "458099     92  2018-05-14 NaN  \n",
       "458181     92  2018-05-14 NaN  \n",
       "458183     92  2018-05-14 NaN  \n",
       "458194     92  2018-05-14 NaN  \n",
       "458287     92  2018-05-14 NaN  \n",
       "458314     92  2018-05-14 NaN  \n",
       "458409     94  2018-05-14 NaN  \n",
       "458630     92  2018-05-14 NaN  \n",
       "458650     92  2018-05-14 NaN  \n",
       "458670     92  2018-05-14 NaN  \n",
       "458717     94  2018-05-14 NaN  \n",
       "458737     92  2018-05-14 NaN  \n",
       "458790     92  2018-05-14 NaN  \n",
       "458867     92  2018-05-14 NaN  \n",
       "458934     92  2018-05-14 NaN  \n",
       "458987     92  2018-05-14 NaN  \n",
       "459055     92  2018-05-14 NaN  \n",
       "459112     92  2018-05-14 NaN  \n",
       "459217     92  2018-05-14 NaN  \n",
       "459244     92  2018-05-14 NaN  \n",
       "459253     92  2018-05-14 NaN  \n",
       "459297     92  2018-05-14 NaN  \n",
       "459428     92  2018-05-14 NaN  \n",
       "459608     92  2018-05-14 NaN  \n",
       "459624     92  2018-05-14 NaN  \n",
       "459650     92  2018-05-14 NaN  \n",
       "459703     94  2018-05-14 NaN  \n",
       "...       ...         ...  ..  \n",
       "481533     94  2018-05-14 NaN  \n",
       "481695     92  2018-05-14 NaN  \n",
       "481816     92  2018-05-14 NaN  \n",
       "481905     94  2018-05-14 NaN  \n",
       "481959     92  2018-05-14 NaN  \n",
       "482030     92  2018-05-14 NaN  \n",
       "482348     94  2018-05-14 NaN  \n",
       "482817     92  2018-05-14 NaN  \n",
       "482831     94  2018-05-14 NaN  \n",
       "483082     94  2018-05-14 NaN  \n",
       "483115     92  2018-05-14 NaN  \n",
       "483423     94  2018-05-14 NaN  \n",
       "483455     94  2018-05-14 NaN  \n",
       "483471     94  2018-05-14 NaN  \n",
       "483619     92  2018-05-14 NaN  \n",
       "484027     94  2018-05-14 NaN  \n",
       "484100     95  2018-05-14 NaN  \n",
       "484554     94  2018-05-14 NaN  \n",
       "484666     92  2018-05-14 NaN  \n",
       "484895     94  2018-05-14 NaN  \n",
       "484907     94  2018-05-14 NaN  \n",
       "485212     94  2018-05-14 NaN  \n",
       "485531     92  2018-05-14 NaN  \n",
       "485539     92  2018-05-14 NaN  \n",
       "485986     94  2018-05-14 NaN  \n",
       "486509     92  2018-05-14 NaN  \n",
       "486564     92  2018-05-14 NaN  \n",
       "486658     92  2018-05-14 NaN  \n",
       "486689     92  2018-05-14 NaN  \n",
       "486814     94  2018-05-14 NaN  \n",
       "\n",
       "[278 rows x 9 columns]"
      ]
     },
     "execution_count": 287,
     "metadata": {},
     "output_type": "execute_result"
    }
   ],
   "source": [
    "df[df.country == \"Pakistan\"][pd.to_datetime(df.just_date) == pd.to_datetime(\"2018-05-14\") + timedelta(days=date)]"
   ]
  },
  {
   "cell_type": "code",
   "execution_count": null,
   "metadata": {
    "collapsed": true
   },
   "outputs": [],
   "source": []
  }
 ],
 "metadata": {
  "kernelspec": {
   "display_name": "Python 2",
   "language": "python",
   "name": "python2"
  },
  "language_info": {
   "codemirror_mode": {
    "name": "ipython",
    "version": 2
   },
   "file_extension": ".py",
   "mimetype": "text/x-python",
   "name": "python",
   "nbconvert_exporter": "python",
   "pygments_lexer": "ipython2",
   "version": "2.7.13"
  }
 },
 "nbformat": 4,
 "nbformat_minor": 2
}
