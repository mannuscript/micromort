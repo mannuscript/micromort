{
 "cells": [
  {
   "cell_type": "code",
   "execution_count": null,
   "metadata": {
    "collapsed": true
   },
   "outputs": [],
   "source": [
    "import json\n",
    "from micromort.data_stores.mongodb import getConnection\n",
    "from multiprocessing.dummy import Pool as ThreadPool \n",
    "import traceback, sys\n",
    "import os"
   ]
  },
  {
   "cell_type": "code",
   "execution_count": null,
   "metadata": {
    "collapsed": true
   },
   "outputs": [],
   "source": [
    "mongo_db_name = \"micromort\"\n",
    "mongo_collection_name = \"newstweets\"\n",
    "mongoClient = getConnection(mongo_db_name, mongo_collection_name)"
   ]
  },
  {
   "cell_type": "code",
   "execution_count": null,
   "metadata": {
    "collapsed": true
   },
   "outputs": [],
   "source": [
    "def gen_dict_extract(key, var):\n",
    "    if hasattr(var, 'items'):\n",
    "        for k, v in var.items():\n",
    "            if k == key:\n",
    "                yield v\n",
    "            if isinstance(v, dict):\n",
    "                for result in gen_dict_extract(key, v):\n",
    "                    yield result\n",
    "            elif isinstance(v, list):\n",
    "                for d in v:\n",
    "                    for result in gen_dict_extract(key, d):\n",
    "                        yield result\n",
    "\n",
    "def getUrl(tweet):\n",
    "    return gen_dict_extract(\"expanded_url\", tweet)"
   ]
  },
  {
   "cell_type": "code",
   "execution_count": null,
   "metadata": {
    "collapsed": true
   },
   "outputs": [],
   "source": [
    "count = 0\n",
    "fil_path = \"\"\n",
    "f = open(\"./my_data.txt\", \"a\")\n",
    "def myFun(tweet):\n",
    "    try:\n",
    "        #idx = multiprocessing.current_process()\n",
    "        #print(idx, os.getpid())\n",
    "        _str = \"\"\n",
    "        global count\n",
    "        count = count+1\n",
    "        if count%1000 == 0:\n",
    "            print(count/1000)\n",
    "\n",
    "        urls = getUrl(tweet)\n",
    "        tweet_id = tweet[\"id\"]\n",
    "        filtered_urls = []\n",
    "        for url in urls:\n",
    "            if \"twitter.com\" not in url:\n",
    "                filtered_urls.append(url)\n",
    "\n",
    "        if not len(filtered_urls):\n",
    "            return 1\n",
    "\n",
    "        for url in filtered_urls:\n",
    "            url = url[:1000]\n",
    "            #url_id = insertUrl(url, con)\n",
    "            _str += str(tweet_id) + \"\\t\" + url + \"\\n\"\n",
    "        f.write(_str)\n",
    "        return 1\n",
    "    except Exception as e:\n",
    "        print(e)\n",
    "        traceback.print_exc()\n",
    "        return 1\n",
    "    \n",
    "\n",
    "pool = ThreadPool(6) \n",
    "results = pool.imap(myFun, mongoClient.find())    "
   ]
  },
  {
   "cell_type": "code",
   "execution_count": null,
   "metadata": {
    "collapsed": true
   },
   "outputs": [],
   "source": [
    "cat  my_data.txt | awk '{print $2}' | sort | uniq > unique_urls"
   ]
  }
 ],
 "metadata": {
  "kernelspec": {
   "display_name": "Python 2",
   "language": "python",
   "name": "python2"
  },
  "language_info": {
   "codemirror_mode": {
    "name": "ipython",
    "version": 2
   },
   "file_extension": ".py",
   "mimetype": "text/x-python",
   "name": "python",
   "nbconvert_exporter": "python",
   "pygments_lexer": "ipython2",
   "version": "2.7.13"
  }
 },
 "nbformat": 4,
 "nbformat_minor": 2
}
