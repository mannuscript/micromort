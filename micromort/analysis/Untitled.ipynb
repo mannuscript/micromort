{
 "cells": [
  {
   "cell_type": "code",
   "execution_count": 15,
   "metadata": {
    "collapsed": true
   },
   "outputs": [],
   "source": [
    "from dtw import dtw\n",
    "from numpy.linalg import norm\n",
    "import numpy as np"
   ]
  },
  {
   "cell_type": "code",
   "execution_count": 5,
   "metadata": {
    "collapsed": true
   },
   "outputs": [],
   "source": [
    "a = [7.344632768,\n",
    "12.60162602,\n",
    "6.542056075,\n",
    "10.7266436,\n",
    "9.489051095,\n",
    "3.416856492,\n",
    "5.974842767,\n",
    "6.557377049,\n",
    "11.46245059,\n",
    "11.27819549,\n",
    "6.413994169,\n",
    "6.257521059,\n",
    "3.771551724,\n",
    "7.167235495,\n",
    "9.595959596,\n",
    "8.461538462,\n",
    "3.576341128,\n",
    "4.664723032,\n",
    "13.67924528,\n",
    "3.531300161,\n",
    "6.744487678,\n",
    "17.26907631,\n",
    "4.819277108]\n",
    "b = [10.43478261,\n",
    "6.756756757,\n",
    "6.432748538,\n",
    "14.61988304,\n",
    "12.24489796,\n",
    "5.223880597,\n",
    "7.262569832,\n",
    "6.470588235,\n",
    "9.550561798,\n",
    "13.33333333,\n",
    "6.355932203,\n",
    "3.892944039,\n",
    "1.858736059,\n",
    "4.819277108,\n",
    "8.737864078,\n",
    "7.614213198,\n",
    "4.174950298,\n",
    "5.306122449,\n",
    "13.2231405,\n",
    "1.826484018,\n",
    "7.614213198,\n",
    "14.38848921,\n",
    "1.724137931]"
   ]
  },
  {
   "cell_type": "code",
   "execution_count": 16,
   "metadata": {
    "collapsed": true
   },
   "outputs": [],
   "source": [
    "a = np.array(a).reshape(-1,1)\n",
    "b = np.array(b).reshape(-1,1)"
   ]
  },
  {
   "cell_type": "code",
   "execution_count": 19,
   "metadata": {
    "collapsed": false
   },
   "outputs": [],
   "source": [
    "dist, cost, acc, path = dtw(a, b, norm)"
   ]
  },
  {
   "cell_type": "code",
   "execution_count": 23,
   "metadata": {
    "collapsed": false
   },
   "outputs": [
    {
     "data": {
      "text/plain": [
       "(array([ 0,  1,  2,  3,  4,  5,  6,  7,  8,  9, 10, 11, 12, 13, 14, 15, 16,\n",
       "        17, 18, 19, 20, 21, 22]),\n",
       " array([ 0,  1,  2,  3,  4,  5,  6,  7,  8,  9, 10, 11, 12, 13, 14, 15, 16,\n",
       "        17, 18, 19, 20, 21, 22]))"
      ]
     },
     "execution_count": 23,
     "metadata": {},
     "output_type": "execute_result"
    }
   ],
   "source": [
    "path"
   ]
  },
  {
   "cell_type": "code",
   "execution_count": 8,
   "metadata": {
    "collapsed": false
   },
   "outputs": [
    {
     "data": {
      "text/plain": [
       "(23, 23)"
      ]
     },
     "execution_count": 8,
     "metadata": {},
     "output_type": "execute_result"
    }
   ],
   "source": [
    "len(a),len(b)"
   ]
  },
  {
   "cell_type": "code",
   "execution_count": 14,
   "metadata": {
    "collapsed": false
   },
   "outputs": [
    {
     "data": {
      "text/plain": [
       "array([[0],\n",
       "       [0],\n",
       "       [1],\n",
       "       [1],\n",
       "       [2],\n",
       "       [4],\n",
       "       [2],\n",
       "       [1],\n",
       "       [2],\n",
       "       [0]])"
      ]
     },
     "execution_count": 14,
     "metadata": {},
     "output_type": "execute_result"
    }
   ],
   "source": [
    "array([0, 0, 1, 1, 2, 4, 2, 1, 2, 0]).reshape(-1, 1)"
   ]
  },
  {
   "cell_type": "code",
   "execution_count": 13,
   "metadata": {
    "collapsed": true
   },
   "outputs": [],
   "source": [
    "from numpy import array"
   ]
  },
  {
   "cell_type": "code",
   "execution_count": null,
   "metadata": {
    "collapsed": true
   },
   "outputs": [],
   "source": []
  }
 ],
 "metadata": {
  "kernelspec": {
   "display_name": "Python 2",
   "language": "python",
   "name": "python2"
  },
  "language_info": {
   "codemirror_mode": {
    "name": "ipython",
    "version": 2
   },
   "file_extension": ".py",
   "mimetype": "text/x-python",
   "name": "python",
   "nbconvert_exporter": "python",
   "pygments_lexer": "ipython2",
   "version": "2.7.13"
  }
 },
 "nbformat": 4,
 "nbformat_minor": 2
}
